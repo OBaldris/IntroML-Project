{
 "cells": [
  {
   "cell_type": "code",
   "execution_count": 1,
   "metadata": {},
   "outputs": [],
   "source": [
    "import pandas as pd\n",
    "import numpy as np\n",
    "\n",
    "from sklearn.preprocessing import StandardScaler\n",
    "from scipy.linalg import svd\n",
    "from scipy import stats\n",
    "\n",
    "import matplotlib.pyplot as plt\n",
    "import seaborn as sns\n",
    "\n",
    "from sklearn import model_selection\n",
    "import sklearn.linear_model\n",
    "import sklearn.neural_network\n",
    "import random\n",
    "\n",
    "random.seed(42)\n",
    "np.random.seed(42)\n"
   ]
  },
  {
   "cell_type": "code",
   "execution_count": 2,
   "metadata": {},
   "outputs": [],
   "source": [
    "try:\n",
    "    from ucimlrepo import fetch_ucirepo\n",
    "except ImportError:\n",
    "    print(\"Please install the ucimlrepo with pip :)\")"
   ]
  },
  {
   "cell_type": "markdown",
   "metadata": {},
   "source": [
    "## Data loading"
   ]
  },
  {
   "cell_type": "code",
   "execution_count": 3,
   "metadata": {},
   "outputs": [
    {
     "name": "stdout",
     "output_type": "stream",
     "text": [
      "              Drug    Age Sex Ascites Hepatomegaly Spiders Edema  Bilirubin  \\\n",
      "0  D-penicillamine  21464   F       Y            Y       Y     Y       14.5   \n",
      "1  D-penicillamine  20617   F       N            Y       Y     N        1.1   \n",
      "2  D-penicillamine  25594   M       N            N       N     S        1.4   \n",
      "3  D-penicillamine  19994   F       N            Y       Y     S        1.8   \n",
      "4          Placebo  13918   F       N            Y       Y     N        3.4   \n",
      "\n",
      "  Cholesterol  Albumin Copper  Alk_Phos    SGOT Tryglicerides Platelets  \\\n",
      "0         261     2.60    156    1718.0  137.95           172       190   \n",
      "1         302     4.14     54    7394.8  113.52            88       221   \n",
      "2         176     3.48    210     516.0   96.10            55       151   \n",
      "3         244     2.54     64    6121.8   60.63            92       183   \n",
      "4         279     3.53    143     671.0  113.15            72       136   \n",
      "\n",
      "   Prothrombin  Stage  \n",
      "0         12.2    4.0  \n",
      "1         10.6    3.0  \n",
      "2         12.0    4.0  \n",
      "3         10.3    4.0  \n",
      "4         10.9    3.0  \n",
      "Drug 106\n",
      "Age 0\n",
      "Sex 0\n",
      "Ascites 106\n",
      "Hepatomegaly 106\n",
      "Spiders 106\n",
      "Edema 0\n",
      "Bilirubin 0\n",
      "Cholesterol 134\n",
      "Albumin 0\n",
      "Copper 108\n",
      "Alk_Phos 106\n",
      "SGOT 106\n",
      "Tryglicerides 136\n",
      "Platelets 11\n",
      "Prothrombin 2\n",
      "Stage 6\n"
     ]
    }
   ],
   "source": [
    "# fetch dataset \n",
    "cirrhosis_patient_survival_prediction = fetch_ucirepo(id=878) \n",
    "  \n",
    "# data (as pandas dataframes) \n",
    "X = cirrhosis_patient_survival_prediction.data.features \n",
    "\n",
    "data = pd.DataFrame(X)\n",
    "\n",
    "print(data.head())\n",
    "\n",
    "#data preparation and cleaning\n",
    "\n",
    "data = data.replace('NaNN', np.nan)\n",
    "\n",
    "cols = data.columns\n",
    "\n",
    "na_per_col = {}\n",
    "\n",
    "for col in cols:\n",
    "    na_per_col[col] = data[col].isna().sum()\n",
    "\n",
    "\n",
    "for key, value in na_per_col.items():\n",
    "    print(key, value)"
   ]
  },
  {
   "cell_type": "markdown",
   "metadata": {},
   "source": [
    "Some data cleaning, removing empty value rows, disregarging binary features."
   ]
  },
  {
   "cell_type": "code",
   "execution_count": 4,
   "metadata": {},
   "outputs": [
    {
     "name": "stdout",
     "output_type": "stream",
     "text": [
      "Age\n",
      "Copper\n",
      "Platelets\n",
      "Cholesterol\n",
      "Tryglicerides\n"
     ]
    }
   ],
   "source": [
    "data.drop(['Drug', 'Sex', 'Ascites', 'Hepatomegaly', 'Spiders', 'Edema'], axis=1, inplace=True)\n",
    "\n",
    "data = data.dropna()\n",
    "\n",
    "data.describe()\n",
    "\n",
    "ints = ['Age', 'Copper', 'Platelets', 'Cholesterol', 'Tryglicerides']\n",
    "\n",
    "for i in ints:\n",
    "    print(i)\n",
    "    data[i] = list(map(int, data[i]))"
   ]
  },
  {
   "cell_type": "markdown",
   "metadata": {},
   "source": [
    "## Regression A"
   ]
  },
  {
   "cell_type": "markdown",
   "metadata": {},
   "source": [
    "Here we have the code for regression part A, with the following:\n",
    "\n",
    "- Saving data on a matrix\n",
    "- Scaling the data for mean of 0 and variance of 1\n",
    "- Test error evolution across lambda parameter for linear regression complexity\n",
    "- Effect of regularization on linear regression weights"
   ]
  },
  {
   "cell_type": "code",
   "execution_count": 5,
   "metadata": {},
   "outputs": [],
   "source": [
    "# Extract attribute names\n",
    "attributeNames = list(data.columns)\n",
    "\n",
    "# Preallocate memory, then extract excel data to matrix X\n",
    "X = np.empty((len(data), len(attributeNames)))\n",
    "for i, col_id in enumerate(range(0,len(attributeNames))):\n",
    "    X[:, i] = np.asarray(data.iloc[:, col_id])\n",
    "\n",
    "# Compute values of N, M and C.\n",
    "N = len(data.Age)\n",
    "M = len(attributeNames)\n",
    "\n",
    "scaler = StandardScaler()\n",
    "Y_scaled = scaler.fit_transform(X)"
   ]
  },
  {
   "cell_type": "markdown",
   "metadata": {},
   "source": [
    "### Lambda vs validation error\n",
    "\n",
    "We will range through several values of lambda (regularization of linear regression model) to determin the best lambda and see the overall effect on the regression problem.\n",
    "\n",
    "We will do a 1 fold validation with a total of 10 partitions. So all  model complexities are evaluated with 10 train partitions and the respective test partitions. In the end we compute the mean of the error for each lambda across all iterations of the fold."
   ]
  },
  {
   "cell_type": "code",
   "execution_count": null,
   "metadata": {},
   "outputs": [
    {
     "name": "stdout",
     "output_type": "stream",
     "text": [
      "Cross-validation fold: 1/10\n",
      "Cross-validation fold: 2/10\n",
      "Cross-validation fold: 3/10\n",
      "Cross-validation fold: 4/10\n",
      "Cross-validation fold: 5/10\n",
      "Cross-validation fold: 6/10\n",
      "Cross-validation fold: 7/10\n",
      "Cross-validation fold: 8/10\n",
      "Cross-validation fold: 9/10\n",
      "Cross-validation fold: 10/10\n",
      "Best lambda: 86.97490026177834, with validation error: 0.8917669104253203\n"
     ]
    }
   ],
   "source": [
    "K1 = 10\n",
    "\n",
    "# Split the data into input and target\n",
    "X = Y_scaled[:,1:]\n",
    "y = Y_scaled[:,0]\n",
    "\n",
    "# Define the range of lambda values to test\n",
    "lambda_range = np.logspace(-2, 3, num=100)\n",
    "\n",
    "test_lens = []\n",
    "validation_errors = []\n",
    "\n",
    "# Loop over each cross-validation fold\n",
    "for fold_index, (train_index, val_index) in enumerate(model_selection.KFold(K1).split(X)):\n",
    "    print(f\"Cross-validation fold: {fold_index + 1}/{K1}\")\n",
    "\n",
    "    # Split the data into training and validation sets\n",
    "    X_train, X_val = X[train_index, :], X[val_index, :]\n",
    "    y_train, y_val = y[train_index], y[val_index]\n",
    "\n",
    "    # List to store validation errors for each lambda value\n",
    "    fold_errors = []\n",
    "\n",
    "    # Train and validate the model for different values of lambda\n",
    "    for l in lambda_range:\n",
    "        # Train Ridge regression model\n",
    "        model = sklearn.linear_model.Ridge(alpha=l).fit(X_train, y_train)\n",
    "        \n",
    "        # Make predictions on the validation set\n",
    "        predictions = model.predict(X_val)\n",
    "        \n",
    "        # Calculate the Mean Squared Error (MSE) on the validation set\n",
    "        mse = np.mean((predictions - y_val) ** 2)\n",
    "        \n",
    "        # Store the error for this value of lambda\n",
    "        fold_errors.append(mse)\n",
    "    \n",
    "    # Store the validation errors for this fold (across different lambda values)\n",
    "    validation_errors.append(fold_errors)\n",
    "\n",
    "# Convert the list of validation errors into a numpy array\n",
    "validation_errors = np.array(validation_errors)\n",
    "\n",
    "# Calculate the mean validation error for each lambda value across all folds\n",
    "mean_validation_errors = np.mean(validation_errors, axis=0)\n",
    "\n",
    "# Find the lambda with the lowest validation error\n",
    "best_lambda_index = np.argmin(mean_validation_errors)\n",
    "best_lambda = lambda_range[best_lambda_index]\n",
    "best_error = mean_validation_errors[best_lambda_index]\n",
    "\n",
    "print(f\"Best lambda: {best_lambda}, with validation error: {best_error}\")"
   ]
  },
  {
   "cell_type": "code",
   "execution_count": null,
   "metadata": {},
   "outputs": [
    {
     "data": {
      "image/png": "[encoded data removed]",
      "text/plain": [
       "<Figure size 1200x600 with 1 Axes>"
      ]
     },
     "metadata": {},
     "output_type": "display_data"
    }
   ],
   "source": [
    "# Plot the validation errors for each lambda value\n",
    "f = plt.figure(figsize=(12, 6))\n",
    "plt.plot(lambda_range, mean_validation_errors, marker='.', label='Validation Error')\n",
    "plt.scatter(best_lambda, best_error, color='red', label=f'Best lambda: {best_lambda:.2f}')\n",
    "plt.xlabel('Lambda')\n",
    "plt.ylabel('Mean Validation Error')\n",
    "plt.title('Cross-Validation Error vs Lambda')\n",
    "plt.legend()\n",
    "plt.xscale('log')\n",
    "plt.savefig('cross_validation_lambda.png')\n",
    "plt.show()"
   ]
  },
  {
   "cell_type": "markdown",
   "metadata": {},
   "source": [
    "### Linear regression weighs"
   ]
  },
  {
   "cell_type": "markdown",
   "metadata": {},
   "source": [
    "Now we will see the effect of lambda on model weighs for each of the features."
   ]
  },
  {
   "cell_type": "code",
   "execution_count": null,
   "metadata": {},
   "outputs": [
    {
     "data": {
      "image/png": "[encoded data removed]",
      "text/plain": [
       "<Figure size 1000x600 with 1 Axes>"
      ]
     },
     "metadata": {},
     "output_type": "display_data"
    }
   ],
   "source": [
    "# Define feature names based on your dataset\n",
    "feature_names = [ \n",
    "    'Bilirubin', 'Cholesterol', 'Albumin', 'Copper', \n",
    "    'Alk_Phos', 'SGOT', 'Triglycerides', 'Platelets', \n",
    "    'Prothrombin', 'Stage'\n",
    "]  # Adjust according to actual feature names in your dataset\n",
    "\n",
    "# Range of lambda (alpha) values\n",
    "lambda_range = np.logspace(-2, 5, 200)  # Log scale from 1e-5 to 1e5\n",
    "\n",
    "# Initialize list to store coefficients for each lambda\n",
    "coefficients = []\n",
    "\n",
    "# Loop over lambda values and fit the Ridge model\n",
    "for lambda_value in lambda_range:\n",
    "    ridge_model = sklearn.linear_model.Ridge(alpha=lambda_value)\n",
    "    ridge_model.fit(X, y)\n",
    "    coefficients.append(ridge_model.coef_)\n",
    "\n",
    "# Convert the coefficients list to a numpy array for easier manipulation\n",
    "coefficients = np.array(coefficients)\n",
    "\n",
    "# Plot the coefficients as a function of lambda\n",
    "plt.figure(figsize=(10, 6))\n",
    "for i in range(X.shape[1]):  # Loop through all features\n",
    "    plt.plot(lambda_range, coefficients[:, i], label=feature_names[i])\n",
    "\n",
    "plt.xscale('log')  # Log scale for lambda\n",
    "plt.xlabel('Lambda (log scale)')\n",
    "plt.ylabel('Coefficient Value')\n",
    "plt.title('Coefficient Evolution as Lambda Increases (Ridge Regression)')\n",
    "plt.legend(loc='center left', bbox_to_anchor=(1, 0.5))  # Puts legend outside of plot area\n",
    "plt.grid(True)\n",
    "plt.tight_layout()\n",
    "plt.savefig('ridge_coefficients.png')\n",
    "plt.show()"
   ]
  },
  {
   "cell_type": "markdown",
   "metadata": {},
   "source": [
    "## Regression B"
   ]
  },
  {
   "cell_type": "markdown",
   "metadata": {},
   "source": [
    "Now we will compare three models for regression: linear regression, neural network and baseline (mean of train target).\n",
    "\n",
    "We implement a 2-fold cross validation with two *for*s, and "
   ]
  },
  {
   "cell_type": "code",
   "execution_count": 21,
   "metadata": {},
   "outputs": [
    {
     "name": "stdout",
     "output_type": "stream",
     "text": [
      "Outter fold: 1/10\n",
      "Cross-validation fold: 1/10\n",
      "Cross-validation fold: 2/10\n",
      "Cross-validation fold: 3/10\n",
      "Cross-validation fold: 4/10\n",
      "Cross-validation fold: 5/10\n",
      "Cross-validation fold: 6/10\n",
      "Cross-validation fold: 7/10\n",
      "Cross-validation fold: 8/10\n",
      "Cross-validation fold: 9/10\n",
      "Cross-validation fold: 10/10\n",
      "Best lambda: 56.400000000000006\n",
      "Linear regression test error: 0.7762966749698427\n",
      "Best hidden layer size: 34\n",
      "ANN test error: 0.8486853216245429\n",
      "0.8196132377582147\n",
      "Outter fold: 2/10\n",
      "Cross-validation fold: 1/10\n",
      "Cross-validation fold: 2/10\n",
      "Cross-validation fold: 3/10\n",
      "Cross-validation fold: 4/10\n",
      "Cross-validation fold: 5/10\n",
      "Cross-validation fold: 6/10\n",
      "Cross-validation fold: 7/10\n",
      "Cross-validation fold: 8/10\n",
      "Cross-validation fold: 9/10\n",
      "Cross-validation fold: 10/10\n",
      "Best lambda: 77.5\n",
      "Linear regression test error: 0.6072334542200951\n",
      "Best hidden layer size: 24\n",
      "ANN test error: 1.5119809100238828\n",
      "0.6183755969232075\n",
      "Outter fold: 3/10\n",
      "Cross-validation fold: 1/10\n",
      "Cross-validation fold: 2/10\n",
      "Cross-validation fold: 3/10\n",
      "Cross-validation fold: 4/10\n",
      "Cross-validation fold: 5/10\n",
      "Cross-validation fold: 6/10\n",
      "Cross-validation fold: 7/10\n",
      "Cross-validation fold: 8/10\n",
      "Cross-validation fold: 9/10\n",
      "Cross-validation fold: 10/10\n",
      "Best lambda: 88.4\n",
      "Linear regression test error: 0.851838656231215\n",
      "Best hidden layer size: 24\n",
      "ANN test error: 1.078434541883859\n",
      "1.0119281451661066\n",
      "Outter fold: 4/10\n",
      "Cross-validation fold: 1/10\n",
      "Cross-validation fold: 2/10\n",
      "Cross-validation fold: 3/10\n",
      "Cross-validation fold: 4/10\n",
      "Cross-validation fold: 5/10\n",
      "Cross-validation fold: 6/10\n",
      "Cross-validation fold: 7/10\n",
      "Cross-validation fold: 8/10\n",
      "Cross-validation fold: 9/10\n",
      "Cross-validation fold: 10/10\n",
      "Best lambda: 102.7\n",
      "Linear regression test error: 0.6197943954398003\n",
      "Best hidden layer size: 33\n",
      "ANN test error: 0.6695759355141079\n",
      "0.8251839214045723\n",
      "Outter fold: 5/10\n",
      "Cross-validation fold: 1/10\n",
      "Cross-validation fold: 2/10\n",
      "Cross-validation fold: 3/10\n",
      "Cross-validation fold: 4/10\n",
      "Cross-validation fold: 5/10\n",
      "Cross-validation fold: 6/10\n",
      "Cross-validation fold: 7/10\n",
      "Cross-validation fold: 8/10\n",
      "Cross-validation fold: 9/10\n",
      "Cross-validation fold: 10/10\n",
      "Best lambda: 99.1\n",
      "Linear regression test error: 0.9056805092085665\n",
      "Best hidden layer size: 31\n",
      "ANN test error: 1.0749967472759319\n",
      "1.021890440175827\n",
      "Outter fold: 6/10\n",
      "Cross-validation fold: 1/10\n",
      "Cross-validation fold: 2/10\n",
      "Cross-validation fold: 3/10\n",
      "Cross-validation fold: 4/10\n",
      "Cross-validation fold: 5/10\n",
      "Cross-validation fold: 6/10\n",
      "Cross-validation fold: 7/10\n",
      "Cross-validation fold: 8/10\n",
      "Cross-validation fold: 9/10\n",
      "Cross-validation fold: 10/10\n",
      "Best lambda: 121.6\n",
      "Linear regression test error: 0.6706053218586939\n",
      "Best hidden layer size: 15\n",
      "ANN test error: 0.6433194444700275\n",
      "0.878342401732722\n",
      "Outter fold: 7/10\n",
      "Cross-validation fold: 1/10\n",
      "Cross-validation fold: 2/10\n",
      "Cross-validation fold: 3/10\n",
      "Cross-validation fold: 4/10\n",
      "Cross-validation fold: 5/10\n",
      "Cross-validation fold: 6/10\n",
      "Cross-validation fold: 7/10\n",
      "Cross-validation fold: 8/10\n",
      "Cross-validation fold: 9/10\n",
      "Cross-validation fold: 10/10\n",
      "Best lambda: 91.0\n",
      "Linear regression test error: 0.9890669378999993\n",
      "Best hidden layer size: 33\n",
      "ANN test error: 1.0991418406244844\n",
      "0.9928606525095796\n",
      "Outter fold: 8/10\n",
      "Cross-validation fold: 1/10\n",
      "Cross-validation fold: 2/10\n",
      "Cross-validation fold: 3/10\n",
      "Cross-validation fold: 4/10\n",
      "Cross-validation fold: 5/10\n",
      "Cross-validation fold: 6/10\n",
      "Cross-validation fold: 7/10\n",
      "Cross-validation fold: 8/10\n",
      "Cross-validation fold: 9/10\n",
      "Cross-validation fold: 10/10\n",
      "Best lambda: 111.7\n",
      "Linear regression test error: 1.2295360381843705\n",
      "Best hidden layer size: 29\n",
      "ANN test error: 1.2508489280272257\n",
      "1.3843554478062456\n",
      "Outter fold: 9/10\n",
      "Cross-validation fold: 1/10\n",
      "Cross-validation fold: 2/10\n",
      "Cross-validation fold: 3/10\n",
      "Cross-validation fold: 4/10\n",
      "Cross-validation fold: 5/10\n",
      "Cross-validation fold: 6/10\n",
      "Cross-validation fold: 7/10\n",
      "Cross-validation fold: 8/10\n",
      "Cross-validation fold: 9/10\n",
      "Cross-validation fold: 10/10\n",
      "Best lambda: 116.4\n",
      "Linear regression test error: 1.186215001088739\n",
      "Best hidden layer size: 12\n",
      "ANN test error: 1.2356459065626442\n",
      "1.366295251406979\n",
      "Outter fold: 10/10\n",
      "Cross-validation fold: 1/10\n",
      "Cross-validation fold: 2/10\n",
      "Cross-validation fold: 3/10\n",
      "Cross-validation fold: 4/10\n",
      "Cross-validation fold: 5/10\n",
      "Cross-validation fold: 6/10\n",
      "Cross-validation fold: 7/10\n",
      "Cross-validation fold: 8/10\n",
      "Cross-validation fold: 9/10\n",
      "Cross-validation fold: 10/10\n",
      "Best lambda: 105.9\n",
      "Linear regression test error: 1.1230653314842265\n",
      "Best hidden layer size: 18\n",
      "ANN test error: 1.016370607390861\n",
      "1.1747941044146728\n"
     ]
    }
   ],
   "source": [
    "K1 = 10\n",
    "K2 = 10\n",
    "\n",
    "k1 = 0\n",
    "k2 = 0\n",
    "\n",
    "lambda_range = list(np.arange(0.1, 200, 0.1))\n",
    "hidden_range = list(range(1, 50))\n",
    "\n",
    "linear_regression_test_errors = []\n",
    "ann_test_errors = []\n",
    "baseline_test_errors = []\n",
    "\n",
    "test_lens = []\n",
    "\n",
    "for par_index, test_index in model_selection.KFold(K1).split(X):\n",
    "    print(\"Outter fold: {0}/{1}\".format(k1 + 1, K1))\n",
    "\n",
    "    X_par, X_test = X[par_index,:], X[test_index,:]\n",
    "    y_par, y_test = y[par_index], y[test_index]\n",
    "\n",
    "\n",
    "    lr_generr = []\n",
    "    ann_generr = []\n",
    "\n",
    "    train_val_fracs = []\n",
    "\n",
    "    k2 = 0\n",
    "\n",
    "    for train_index, val_index in model_selection.KFold(K2).split(X_par):\n",
    "        print(\"Cross-validation fold: {0}/{1}\".format(k2 + 1, K2))\n",
    "\n",
    "        X_train, X_val = X_par[train_index,:], X_par[val_index,:]\n",
    "        y_train, y_val = y_par[train_index], y_par[val_index]\n",
    "\n",
    "        train_val_fracs.append(len(X_train)/len(X_val))\n",
    "\n",
    "        # Train linnear regression model (ranging lambda regularization parameter)\n",
    "        lr_valerr = []\n",
    "        for l in lambda_range:\n",
    "            mA = sklearn.linear_model.Ridge(alpha=l).fit(X_train, y_train)\n",
    "            lr_preds = mA.predict(X_val)\n",
    "            lr_valerr.append(np.mean((lr_preds - y_val) ** 2))\n",
    "        lr_generr.append(lr_valerr)\n",
    "        \n",
    "        # Train ANN model\n",
    "        ann_valerr = []\n",
    "        for h in hidden_range:\n",
    "            mB = sklearn.neural_network.MLPRegressor(hidden_layer_sizes=(h,), activation='relu', solver='adam').fit(X_train, y_train)\n",
    "            ann_preds = mB.predict(X_val)\n",
    "            ann_valerr.append(np.mean((ann_preds - y_val) ** 2))\n",
    "        ann_generr.append(ann_valerr)\n",
    "\n",
    "        k2 += 1\n",
    "\n",
    "    # Compute generalization errors\n",
    "\n",
    "    # LINNEAR REGRESSION\n",
    "    lr_generr = np.dot(np.array(train_val_fracs), np.array(lr_generr))\n",
    "    # Choose best model\n",
    "    best_lambda = lambda_range[np.argmin(lr_generr)]\n",
    "    mA = sklearn.linear_model.Ridge(alpha=best_lambda).fit(X_par, y_par)\n",
    "    lr_testerr = np.mean((mA.predict(X_test) - y_test) ** 2)\n",
    "\n",
    "    print(\"Best lambda: {0}\".format(best_lambda))\n",
    "    print(\"Linear regression test error: {0}\".format(lr_testerr))\n",
    "    linear_regression_test_errors.append(lr_testerr)\n",
    "\n",
    "    # ANN REGRESSION\n",
    "    ann_generr = np.dot(np.array(train_val_fracs), np.array(ann_generr))\n",
    "    # Choose best model\n",
    "    best_hidden = hidden_range[np.argmin(ann_generr)]\n",
    "    mB = sklearn.neural_network.MLPRegressor(hidden_layer_sizes=(best_hidden,)).fit(X_par, y_par)\n",
    "    ann_testerr = np.mean((mB.predict(X_test) - y_test) ** 2)\n",
    "\n",
    "    print(\"Best hidden layer size: {0}\".format(best_hidden))\n",
    "    print(\"ANN test error: {0}\".format(ann_testerr))\n",
    "    ann_test_errors.append(ann_testerr)\n",
    "\n",
    "    # BASELINE\n",
    "    y_baseline = np.mean(y_par) * np.ones(len(y_test))\n",
    "    baseline_testerr = np.mean((y_baseline - y_test) ** 2)\n",
    "    baseline_test_errors.append(baseline_testerr)\n",
    "\n",
    "    print(baseline_testerr)\n",
    "\n",
    "    k1 += 1"
   ]
  },
  {
   "cell_type": "markdown",
   "metadata": {},
   "source": [
    "### Statistical analysis"
   ]
  },
  {
   "cell_type": "code",
   "execution_count": null,
   "metadata": {},
   "outputs": [
    {
     "name": "stdout",
     "output_type": "stream",
     "text": [
      "LR vs ANN\n",
      "t-value: -1.6460560774801756\n",
      "p-value: 0.13415971248108474\n",
      "LR vs Baseline\n",
      "t-value: -4.511379732486529\n",
      "p-value: 0.0014648047518648684\n",
      "ANN vs Baseline\n",
      "t-value: 0.3270869573863689\n",
      "p-value: 0.751081342324412\n"
     ]
    }
   ],
   "source": [
    "# Statistical analysis\n",
    "\n",
    "print('LR vs ANN')\n",
    "t, p = stats.ttest_rel(linear_regression_test_errors, ann_test_errors)\n",
    "print(\"t-value: {0}\".format(t))\n",
    "print(\"p-value: {0}\".format(p))\n",
    "\n",
    "# Estatistical test lr vs baseline\n",
    "print('LR vs Baseline')\n",
    "t, p = stats.ttest_rel(linear_regression_test_errors, baseline_test_errors)\n",
    "print(\"t-value: {0}\".format(t))\n",
    "print(\"p-value: {0}\".format(p))\n",
    "\n",
    "# Estatistical test ann vs baseline\n",
    "print('ANN vs Baseline')\n",
    "t, p = stats.ttest_rel(ann_test_errors, baseline_test_errors)\n",
    "print(\"t-value: {0}\".format(t))\n",
    "print(\"p-value: {0}\".format(p))"
   ]
  },
  {
   "cell_type": "markdown",
   "metadata": {},
   "source": [
    "## Classification"
   ]
  },
  {
   "cell_type": "markdown",
   "metadata": {},
   "source": [
    "### Data loading and transformation"
   ]
  },
  {
   "cell_type": "markdown",
   "metadata": {},
   "source": [
    "We will load the data again, so that we ensure we have all the necessary features and transformations."
   ]
  },
  {
   "cell_type": "code",
   "execution_count": 3,
   "metadata": {},
   "outputs": [],
   "source": [
    "# fetch dataset \n",
    "cirrhosis_patient_survival_prediction = fetch_ucirepo(id=878) \n",
    "  \n",
    "# data (as pandas dataframes) \n",
    "X = cirrhosis_patient_survival_prediction.data.features \n",
    "\n",
    "data = pd.DataFrame(X)"
   ]
  },
  {
   "cell_type": "code",
   "execution_count": 4,
   "metadata": {},
   "outputs": [
    {
     "name": "stdout",
     "output_type": "stream",
     "text": [
      "Age\n",
      "Copper\n",
      "Platelets\n",
      "Cholesterol\n",
      "Tryglicerides\n"
     ]
    }
   ],
   "source": [
    "#data preparation and cleaning\n",
    "data = data.replace('NaNN', np.nan)\n",
    "\n",
    "# Drop categorical columns\n",
    "data.drop(['Drug', 'Sex', 'Ascites', 'Hepatomegaly', 'Spiders', 'Edema'], axis=1, inplace=True)\n",
    "\n",
    "# Drop rows with missing values\n",
    "data = data.dropna()\n",
    "\n",
    "data.describe()\n",
    "\n",
    "# Convert columns values to integers\n",
    "ints = ['Age', 'Copper', 'Platelets', 'Cholesterol', 'Tryglicerides']\n",
    "\n",
    "for i in ints:\n",
    "    print(i)\n",
    "    data[i] = list(map(int, data[i]))"
   ]
  },
  {
   "cell_type": "code",
   "execution_count": 5,
   "metadata": {},
   "outputs": [],
   "source": [
    "# Extract attribute names (1st row, column 4 to 12)\n",
    "attributeNames = list(data.columns)\n",
    "\n",
    "# Extract class names to python list\n",
    "classLabels = sorted(set(data.Stage))\n",
    "y = data.Stage\n",
    "\n",
    "# Preallocate memory, then extract excel data to matrix X\n",
    "X = np.empty((len(data), 10))\n",
    "for i, col_id in enumerate(range(0,10)):\n",
    "    X[:, i] = np.asarray(data.iloc[:, col_id])\n",
    "\n",
    "# Compute values of N, M and C.\n",
    "N = len(y)\n",
    "M = len(attributeNames)\n",
    "C = len(classLabels)\n",
    "\n",
    "\n",
    "# Preallocate memory, then extract excel data to matrix X\n",
    "X = np.empty((len(data), 10))\n",
    "for i, col_id in enumerate(range(0,10)):\n",
    "    X[:, i] = np.asarray(data.iloc[:, col_id])\n",
    "\n",
    "scaler = StandardScaler()\n",
    "Y_scaled = scaler.fit_transform(X)"
   ]
  },
  {
   "cell_type": "code",
   "execution_count": 6,
   "metadata": {},
   "outputs": [
    {
     "data": {
      "image/png": "[encoded data removed]",
      "text/plain": [
       "<Figure size 800x600 with 1 Axes>"
      ]
     },
     "metadata": {},
     "output_type": "display_data"
    }
   ],
   "source": [
    "import matplotlib.pyplot as plt\n",
    "import seaborn as sns\n",
    "\n",
    "# Plot the distribution of the target variable (Stage)\n",
    "plt.figure(figsize=(8, 6))\n",
    "sns.countplot(data=data, x='Stage')\n",
    "plt.title(\"Distribution of Classes in the Target Variable 'Stage'\")\n",
    "plt.xlabel(\"Stage\")\n",
    "plt.ylabel(\"Frequency\")\n",
    "plt.show()"
   ]
  },
  {
   "cell_type": "markdown",
   "metadata": {},
   "source": [
    "### Two-fold cross validation"
   ]
  },
  {
   "cell_type": "code",
   "execution_count": null,
   "metadata": {},
   "outputs": [],
   "source": [
    "y2 = np.array(y.values)\n",
    "from sklearn.linear_model import LogisticRegression"
   ]
  },
  {
   "cell_type": "code",
   "execution_count": 21,
   "metadata": {},
   "outputs": [],
   "source": [
    "import warnings\n",
    "warnings.filterwarnings(\"ignore\")"
   ]
  },
  {
   "cell_type": "code",
   "execution_count": null,
   "metadata": {},
   "outputs": [
    {
     "name": "stdout",
     "output_type": "stream",
     "text": [
      "Outter fold: 1/10\n",
      "Cross-validation fold: 1/10\n"
     ]
    },
    {
     "name": "stderr",
     "output_type": "stream",
     "text": [
      "100%|██████████| 499/499 [00:25<00:00, 19.22it/s]\n",
      "100%|██████████| 29/29 [00:00<00:00, 63.10it/s]\n"
     ]
    },
    {
     "name": "stdout",
     "output_type": "stream",
     "text": [
      "Cross-validation fold: 2/10\n"
     ]
    },
    {
     "name": "stderr",
     "output_type": "stream",
     "text": [
      "100%|██████████| 499/499 [00:25<00:00, 19.21it/s]\n",
      "100%|██████████| 29/29 [00:00<00:00, 46.51it/s]\n"
     ]
    },
    {
     "name": "stdout",
     "output_type": "stream",
     "text": [
      "Cross-validation fold: 3/10\n"
     ]
    },
    {
     "name": "stderr",
     "output_type": "stream",
     "text": [
      "100%|██████████| 499/499 [00:25<00:00, 19.50it/s]\n",
      "100%|██████████| 29/29 [00:00<00:00, 51.15it/s]\n"
     ]
    },
    {
     "name": "stdout",
     "output_type": "stream",
     "text": [
      "Cross-validation fold: 4/10\n"
     ]
    },
    {
     "name": "stderr",
     "output_type": "stream",
     "text": [
      "100%|██████████| 499/499 [00:25<00:00, 19.30it/s]\n",
      "100%|██████████| 29/29 [00:00<00:00, 48.07it/s]\n"
     ]
    },
    {
     "name": "stdout",
     "output_type": "stream",
     "text": [
      "Cross-validation fold: 5/10\n"
     ]
    },
    {
     "name": "stderr",
     "output_type": "stream",
     "text": [
      "100%|██████████| 499/499 [00:25<00:00, 19.27it/s]\n",
      "100%|██████████| 29/29 [00:00<00:00, 51.04it/s]\n"
     ]
    },
    {
     "name": "stdout",
     "output_type": "stream",
     "text": [
      "Cross-validation fold: 6/10\n"
     ]
    },
    {
     "name": "stderr",
     "output_type": "stream",
     "text": [
      "100%|██████████| 499/499 [00:25<00:00, 19.44it/s]\n",
      "100%|██████████| 29/29 [00:00<00:00, 59.60it/s]\n"
     ]
    },
    {
     "name": "stdout",
     "output_type": "stream",
     "text": [
      "Cross-validation fold: 7/10\n"
     ]
    },
    {
     "name": "stderr",
     "output_type": "stream",
     "text": [
      "100%|██████████| 499/499 [00:25<00:00, 19.48it/s]\n",
      "100%|██████████| 29/29 [00:00<00:00, 58.04it/s]\n"
     ]
    },
    {
     "name": "stdout",
     "output_type": "stream",
     "text": [
      "Cross-validation fold: 8/10\n"
     ]
    },
    {
     "name": "stderr",
     "output_type": "stream",
     "text": [
      "100%|██████████| 499/499 [00:25<00:00, 19.58it/s]\n",
      "100%|██████████| 29/29 [00:00<00:00, 57.75it/s]\n"
     ]
    },
    {
     "name": "stdout",
     "output_type": "stream",
     "text": [
      "Cross-validation fold: 9/10\n"
     ]
    },
    {
     "name": "stderr",
     "output_type": "stream",
     "text": [
      "100%|██████████| 499/499 [00:26<00:00, 18.97it/s]\n",
      "100%|██████████| 29/29 [00:00<00:00, 54.59it/s]\n"
     ]
    },
    {
     "name": "stdout",
     "output_type": "stream",
     "text": [
      "Cross-validation fold: 10/10\n"
     ]
    },
    {
     "name": "stderr",
     "output_type": "stream",
     "text": [
      "100%|██████████| 499/499 [00:26<00:00, 18.80it/s]\n",
      "100%|██████████| 29/29 [00:00<00:00, 56.11it/s]\n"
     ]
    },
    {
     "name": "stdout",
     "output_type": "stream",
     "text": [
      "Best hidden layer size: 16\n",
      "ANN test error: 0.7142857142857143\n",
      "Best lambda: 28.6\n",
      "Linear regression test error: 0.2857142857142857\n",
      "Baseline test error: 0.6785714285714286\n",
      "Outter fold: 2/10\n",
      "Cross-validation fold: 1/10\n"
     ]
    },
    {
     "name": "stderr",
     "output_type": "stream",
     "text": [
      "100%|██████████| 499/499 [00:26<00:00, 18.88it/s]\n",
      "100%|██████████| 29/29 [00:00<00:00, 53.55it/s]\n"
     ]
    },
    {
     "name": "stdout",
     "output_type": "stream",
     "text": [
      "Cross-validation fold: 2/10\n"
     ]
    },
    {
     "name": "stderr",
     "output_type": "stream",
     "text": [
      "100%|██████████| 499/499 [00:27<00:00, 18.42it/s]\n",
      "100%|██████████| 29/29 [00:00<00:00, 44.72it/s]\n"
     ]
    },
    {
     "name": "stdout",
     "output_type": "stream",
     "text": [
      "Cross-validation fold: 3/10\n"
     ]
    },
    {
     "name": "stderr",
     "output_type": "stream",
     "text": [
      "100%|██████████| 499/499 [00:27<00:00, 18.01it/s]\n",
      "100%|██████████| 29/29 [00:00<00:00, 41.10it/s]\n"
     ]
    },
    {
     "name": "stdout",
     "output_type": "stream",
     "text": [
      "Cross-validation fold: 4/10\n"
     ]
    },
    {
     "name": "stderr",
     "output_type": "stream",
     "text": [
      "100%|██████████| 499/499 [00:27<00:00, 17.88it/s]\n",
      "100%|██████████| 29/29 [00:00<00:00, 51.30it/s]\n"
     ]
    },
    {
     "name": "stdout",
     "output_type": "stream",
     "text": [
      "Cross-validation fold: 5/10\n"
     ]
    },
    {
     "name": "stderr",
     "output_type": "stream",
     "text": [
      "100%|██████████| 499/499 [00:28<00:00, 17.69it/s]\n",
      "100%|██████████| 29/29 [00:00<00:00, 43.40it/s]\n"
     ]
    },
    {
     "name": "stdout",
     "output_type": "stream",
     "text": [
      "Cross-validation fold: 6/10\n"
     ]
    },
    {
     "name": "stderr",
     "output_type": "stream",
     "text": [
      "100%|██████████| 499/499 [00:27<00:00, 18.39it/s]\n",
      "100%|██████████| 29/29 [00:00<00:00, 49.87it/s]\n"
     ]
    },
    {
     "name": "stdout",
     "output_type": "stream",
     "text": [
      "Cross-validation fold: 7/10\n"
     ]
    },
    {
     "name": "stderr",
     "output_type": "stream",
     "text": [
      "100%|██████████| 499/499 [00:25<00:00, 19.63it/s]\n",
      "100%|██████████| 29/29 [00:00<00:00, 55.96it/s]\n"
     ]
    },
    {
     "name": "stdout",
     "output_type": "stream",
     "text": [
      "Cross-validation fold: 8/10\n"
     ]
    },
    {
     "name": "stderr",
     "output_type": "stream",
     "text": [
      "100%|██████████| 499/499 [00:25<00:00, 19.53it/s]\n",
      "100%|██████████| 29/29 [00:00<00:00, 54.32it/s]\n"
     ]
    },
    {
     "name": "stdout",
     "output_type": "stream",
     "text": [
      "Cross-validation fold: 9/10\n"
     ]
    },
    {
     "name": "stderr",
     "output_type": "stream",
     "text": [
      "100%|██████████| 499/499 [00:25<00:00, 19.61it/s]\n",
      "100%|██████████| 29/29 [00:00<00:00, 50.39it/s]\n"
     ]
    },
    {
     "name": "stdout",
     "output_type": "stream",
     "text": [
      "Cross-validation fold: 10/10\n"
     ]
    },
    {
     "name": "stderr",
     "output_type": "stream",
     "text": [
      "100%|██████████| 499/499 [00:25<00:00, 19.55it/s]\n",
      "100%|██████████| 29/29 [00:00<00:00, 54.34it/s]\n"
     ]
    },
    {
     "name": "stdout",
     "output_type": "stream",
     "text": [
      "Best hidden layer size: 17\n",
      "ANN test error: 1.8571428571428572\n",
      "Best lambda: 34.400000000000006\n",
      "Linear regression test error: 0.6428571428571429\n",
      "Baseline test error: 0.5714285714285714\n",
      "Outter fold: 3/10\n",
      "Cross-validation fold: 1/10\n"
     ]
    },
    {
     "name": "stderr",
     "output_type": "stream",
     "text": [
      "100%|██████████| 499/499 [00:25<00:00, 19.72it/s]\n",
      "100%|██████████| 29/29 [00:00<00:00, 47.03it/s]\n"
     ]
    },
    {
     "name": "stdout",
     "output_type": "stream",
     "text": [
      "Cross-validation fold: 2/10\n"
     ]
    },
    {
     "name": "stderr",
     "output_type": "stream",
     "text": [
      "100%|██████████| 499/499 [00:25<00:00, 19.71it/s]\n",
      "100%|██████████| 29/29 [00:00<00:00, 52.65it/s]\n"
     ]
    },
    {
     "name": "stdout",
     "output_type": "stream",
     "text": [
      "Cross-validation fold: 3/10\n"
     ]
    },
    {
     "name": "stderr",
     "output_type": "stream",
     "text": [
      "100%|██████████| 499/499 [00:24<00:00, 20.14it/s]\n",
      "100%|██████████| 29/29 [00:00<00:00, 47.72it/s]\n"
     ]
    },
    {
     "name": "stdout",
     "output_type": "stream",
     "text": [
      "Cross-validation fold: 4/10\n"
     ]
    },
    {
     "name": "stderr",
     "output_type": "stream",
     "text": [
      "100%|██████████| 499/499 [00:25<00:00, 19.87it/s]\n",
      "100%|██████████| 29/29 [00:00<00:00, 50.53it/s]\n"
     ]
    },
    {
     "name": "stdout",
     "output_type": "stream",
     "text": [
      "Cross-validation fold: 5/10\n"
     ]
    },
    {
     "name": "stderr",
     "output_type": "stream",
     "text": [
      "100%|██████████| 499/499 [00:26<00:00, 19.10it/s]\n",
      "100%|██████████| 29/29 [00:00<00:00, 51.48it/s]\n"
     ]
    },
    {
     "name": "stdout",
     "output_type": "stream",
     "text": [
      "Cross-validation fold: 6/10\n"
     ]
    },
    {
     "name": "stderr",
     "output_type": "stream",
     "text": [
      "100%|██████████| 499/499 [00:27<00:00, 18.44it/s]\n",
      "100%|██████████| 29/29 [00:00<00:00, 54.36it/s]\n"
     ]
    },
    {
     "name": "stdout",
     "output_type": "stream",
     "text": [
      "Cross-validation fold: 7/10\n"
     ]
    },
    {
     "name": "stderr",
     "output_type": "stream",
     "text": [
      "100%|██████████| 499/499 [00:27<00:00, 18.42it/s]\n",
      "100%|██████████| 29/29 [00:00<00:00, 44.31it/s]\n"
     ]
    },
    {
     "name": "stdout",
     "output_type": "stream",
     "text": [
      "Cross-validation fold: 8/10\n"
     ]
    },
    {
     "name": "stderr",
     "output_type": "stream",
     "text": [
      "100%|██████████| 499/499 [00:26<00:00, 19.12it/s]\n",
      "100%|██████████| 29/29 [00:00<00:00, 45.48it/s]\n"
     ]
    },
    {
     "name": "stdout",
     "output_type": "stream",
     "text": [
      "Cross-validation fold: 9/10\n"
     ]
    },
    {
     "name": "stderr",
     "output_type": "stream",
     "text": [
      "100%|██████████| 499/499 [00:27<00:00, 18.33it/s]\n",
      "100%|██████████| 29/29 [00:00<00:00, 59.09it/s]\n"
     ]
    },
    {
     "name": "stdout",
     "output_type": "stream",
     "text": [
      "Cross-validation fold: 10/10\n"
     ]
    },
    {
     "name": "stderr",
     "output_type": "stream",
     "text": [
      "100%|██████████| 499/499 [00:26<00:00, 18.86it/s]\n",
      "100%|██████████| 29/29 [00:00<00:00, 52.79it/s]\n"
     ]
    },
    {
     "name": "stdout",
     "output_type": "stream",
     "text": [
      "Best hidden layer size: 27\n",
      "ANN test error: 1.3214285714285714\n",
      "Best lambda: 22.1\n",
      "Linear regression test error: 0.5714285714285714\n",
      "Baseline test error: 0.5714285714285714\n",
      "Outter fold: 4/10\n",
      "Cross-validation fold: 1/10\n"
     ]
    },
    {
     "name": "stderr",
     "output_type": "stream",
     "text": [
      "100%|██████████| 499/499 [00:27<00:00, 18.45it/s]\n",
      "100%|██████████| 29/29 [00:00<00:00, 36.25it/s]\n"
     ]
    },
    {
     "name": "stdout",
     "output_type": "stream",
     "text": [
      "Cross-validation fold: 2/10\n"
     ]
    },
    {
     "name": "stderr",
     "output_type": "stream",
     "text": [
      "100%|██████████| 499/499 [00:26<00:00, 18.93it/s]\n",
      "100%|██████████| 29/29 [00:00<00:00, 44.98it/s]\n"
     ]
    },
    {
     "name": "stdout",
     "output_type": "stream",
     "text": [
      "Cross-validation fold: 3/10\n"
     ]
    },
    {
     "name": "stderr",
     "output_type": "stream",
     "text": [
      "100%|██████████| 499/499 [00:27<00:00, 18.23it/s]\n",
      "100%|██████████| 29/29 [00:00<00:00, 43.45it/s]\n"
     ]
    },
    {
     "name": "stdout",
     "output_type": "stream",
     "text": [
      "Cross-validation fold: 4/10\n"
     ]
    },
    {
     "name": "stderr",
     "output_type": "stream",
     "text": [
      "100%|██████████| 499/499 [00:29<00:00, 16.98it/s]\n",
      "100%|██████████| 29/29 [00:00<00:00, 37.85it/s]\n"
     ]
    },
    {
     "name": "stdout",
     "output_type": "stream",
     "text": [
      "Cross-validation fold: 5/10\n"
     ]
    },
    {
     "name": "stderr",
     "output_type": "stream",
     "text": [
      "100%|██████████| 499/499 [00:28<00:00, 17.63it/s]\n",
      "100%|██████████| 29/29 [00:00<00:00, 40.66it/s]\n"
     ]
    },
    {
     "name": "stdout",
     "output_type": "stream",
     "text": [
      "Cross-validation fold: 6/10\n"
     ]
    },
    {
     "name": "stderr",
     "output_type": "stream",
     "text": [
      "100%|██████████| 499/499 [00:27<00:00, 18.16it/s]\n",
      "100%|██████████| 29/29 [00:00<00:00, 42.47it/s]\n"
     ]
    },
    {
     "name": "stdout",
     "output_type": "stream",
     "text": [
      "Cross-validation fold: 7/10\n"
     ]
    },
    {
     "name": "stderr",
     "output_type": "stream",
     "text": [
      "100%|██████████| 499/499 [00:27<00:00, 18.32it/s]\n",
      "100%|██████████| 29/29 [00:00<00:00, 42.59it/s]\n"
     ]
    },
    {
     "name": "stdout",
     "output_type": "stream",
     "text": [
      "Cross-validation fold: 8/10\n"
     ]
    },
    {
     "name": "stderr",
     "output_type": "stream",
     "text": [
      "100%|██████████| 499/499 [01:04<00:00,  7.70it/s]\n",
      "100%|██████████| 29/29 [00:00<00:00, 56.75it/s]\n"
     ]
    },
    {
     "name": "stdout",
     "output_type": "stream",
     "text": [
      "Cross-validation fold: 9/10\n"
     ]
    },
    {
     "name": "stderr",
     "output_type": "stream",
     "text": [
      "100%|██████████| 499/499 [00:25<00:00, 19.81it/s]\n",
      "100%|██████████| 29/29 [00:00<00:00, 50.31it/s]\n"
     ]
    },
    {
     "name": "stdout",
     "output_type": "stream",
     "text": [
      "Cross-validation fold: 10/10\n"
     ]
    },
    {
     "name": "stderr",
     "output_type": "stream",
     "text": [
      "100%|██████████| 499/499 [00:25<00:00, 19.85it/s]\n",
      "100%|██████████| 29/29 [00:00<00:00, 49.00it/s]\n"
     ]
    },
    {
     "name": "stdout",
     "output_type": "stream",
     "text": [
      "Best hidden layer size: 1\n",
      "ANN test error: 0.8571428571428571\n",
      "Best lambda: 20.000000000000004\n",
      "Linear regression test error: 0.32142857142857145\n",
      "Baseline test error: 0.5357142857142857\n",
      "Outter fold: 5/10\n",
      "Cross-validation fold: 1/10\n"
     ]
    },
    {
     "name": "stderr",
     "output_type": "stream",
     "text": [
      "100%|██████████| 499/499 [00:26<00:00, 19.11it/s]\n",
      "100%|██████████| 29/29 [00:00<00:00, 49.50it/s]\n"
     ]
    },
    {
     "name": "stdout",
     "output_type": "stream",
     "text": [
      "Cross-validation fold: 2/10\n"
     ]
    },
    {
     "name": "stderr",
     "output_type": "stream",
     "text": [
      "100%|██████████| 499/499 [00:26<00:00, 18.91it/s]\n",
      "100%|██████████| 29/29 [00:00<00:00, 50.70it/s]\n"
     ]
    },
    {
     "name": "stdout",
     "output_type": "stream",
     "text": [
      "Cross-validation fold: 3/10\n"
     ]
    },
    {
     "name": "stderr",
     "output_type": "stream",
     "text": [
      "100%|██████████| 499/499 [00:27<00:00, 18.37it/s]\n",
      "100%|██████████| 29/29 [00:00<00:00, 39.55it/s]\n"
     ]
    },
    {
     "name": "stdout",
     "output_type": "stream",
     "text": [
      "Cross-validation fold: 4/10\n"
     ]
    },
    {
     "name": "stderr",
     "output_type": "stream",
     "text": [
      "100%|██████████| 499/499 [00:26<00:00, 18.77it/s]\n",
      "100%|██████████| 29/29 [00:00<00:00, 41.14it/s]\n"
     ]
    },
    {
     "name": "stdout",
     "output_type": "stream",
     "text": [
      "Cross-validation fold: 5/10\n"
     ]
    },
    {
     "name": "stderr",
     "output_type": "stream",
     "text": [
      "100%|██████████| 499/499 [00:26<00:00, 18.62it/s]\n",
      "100%|██████████| 29/29 [00:00<00:00, 48.18it/s]\n"
     ]
    },
    {
     "name": "stdout",
     "output_type": "stream",
     "text": [
      "Cross-validation fold: 6/10\n"
     ]
    },
    {
     "name": "stderr",
     "output_type": "stream",
     "text": [
      "100%|██████████| 499/499 [00:26<00:00, 18.72it/s]\n",
      "100%|██████████| 29/29 [00:00<00:00, 59.59it/s]\n"
     ]
    },
    {
     "name": "stdout",
     "output_type": "stream",
     "text": [
      "Cross-validation fold: 7/10\n"
     ]
    },
    {
     "name": "stderr",
     "output_type": "stream",
     "text": [
      "100%|██████████| 499/499 [00:26<00:00, 18.70it/s]\n",
      "100%|██████████| 29/29 [00:00<00:00, 52.46it/s]\n"
     ]
    },
    {
     "name": "stdout",
     "output_type": "stream",
     "text": [
      "Cross-validation fold: 8/10\n"
     ]
    },
    {
     "name": "stderr",
     "output_type": "stream",
     "text": [
      "100%|██████████| 499/499 [00:26<00:00, 18.85it/s]\n",
      "100%|██████████| 29/29 [00:00<00:00, 51.82it/s]\n"
     ]
    },
    {
     "name": "stdout",
     "output_type": "stream",
     "text": [
      "Cross-validation fold: 9/10\n"
     ]
    },
    {
     "name": "stderr",
     "output_type": "stream",
     "text": [
      "100%|██████████| 499/499 [00:19<00:00, 25.40it/s]\n",
      "100%|██████████| 29/29 [00:00<00:00, 77.07it/s]\n"
     ]
    },
    {
     "name": "stdout",
     "output_type": "stream",
     "text": [
      "Cross-validation fold: 10/10\n"
     ]
    },
    {
     "name": "stderr",
     "output_type": "stream",
     "text": [
      "100%|██████████| 499/499 [00:17<00:00, 28.09it/s]\n",
      "100%|██████████| 29/29 [00:00<00:00, 79.34it/s]\n"
     ]
    },
    {
     "name": "stdout",
     "output_type": "stream",
     "text": [
      "Best hidden layer size: 17\n",
      "ANN test error: 1.2142857142857142\n",
      "Best lambda: 22.200000000000003\n",
      "Linear regression test error: 0.6428571428571429\n",
      "Baseline test error: 0.6428571428571429\n",
      "Outter fold: 6/10\n",
      "Cross-validation fold: 1/10\n"
     ]
    },
    {
     "name": "stderr",
     "output_type": "stream",
     "text": [
      "100%|██████████| 499/499 [00:23<00:00, 21.19it/s]\n",
      "100%|██████████| 29/29 [00:00<00:00, 72.13it/s]\n"
     ]
    },
    {
     "name": "stdout",
     "output_type": "stream",
     "text": [
      "Cross-validation fold: 2/10\n"
     ]
    },
    {
     "name": "stderr",
     "output_type": "stream",
     "text": [
      "100%|██████████| 499/499 [00:20<00:00, 24.61it/s]\n",
      "100%|██████████| 29/29 [00:00<00:00, 69.68it/s]\n"
     ]
    },
    {
     "name": "stdout",
     "output_type": "stream",
     "text": [
      "Cross-validation fold: 3/10\n"
     ]
    },
    {
     "name": "stderr",
     "output_type": "stream",
     "text": [
      "100%|██████████| 499/499 [00:22<00:00, 22.09it/s]\n",
      "100%|██████████| 29/29 [00:00<00:00, 61.15it/s]\n"
     ]
    },
    {
     "name": "stdout",
     "output_type": "stream",
     "text": [
      "Cross-validation fold: 4/10\n"
     ]
    },
    {
     "name": "stderr",
     "output_type": "stream",
     "text": [
      "100%|██████████| 499/499 [00:19<00:00, 24.97it/s]\n",
      "100%|██████████| 29/29 [00:00<00:00, 59.85it/s]\n"
     ]
    },
    {
     "name": "stdout",
     "output_type": "stream",
     "text": [
      "Cross-validation fold: 5/10\n"
     ]
    },
    {
     "name": "stderr",
     "output_type": "stream",
     "text": [
      "100%|██████████| 499/499 [00:21<00:00, 23.72it/s]\n",
      "100%|██████████| 29/29 [00:00<00:00, 69.50it/s]\n"
     ]
    },
    {
     "name": "stdout",
     "output_type": "stream",
     "text": [
      "Cross-validation fold: 6/10\n"
     ]
    },
    {
     "name": "stderr",
     "output_type": "stream",
     "text": [
      "100%|██████████| 499/499 [00:20<00:00, 24.62it/s]\n",
      "100%|██████████| 29/29 [00:00<00:00, 77.07it/s]\n"
     ]
    },
    {
     "name": "stdout",
     "output_type": "stream",
     "text": [
      "Cross-validation fold: 7/10\n"
     ]
    },
    {
     "name": "stderr",
     "output_type": "stream",
     "text": [
      "100%|██████████| 499/499 [00:19<00:00, 26.22it/s]\n",
      "100%|██████████| 29/29 [00:00<00:00, 64.12it/s]\n"
     ]
    },
    {
     "name": "stdout",
     "output_type": "stream",
     "text": [
      "Cross-validation fold: 8/10\n"
     ]
    },
    {
     "name": "stderr",
     "output_type": "stream",
     "text": [
      "100%|██████████| 499/499 [00:19<00:00, 26.20it/s]\n",
      "100%|██████████| 29/29 [00:00<00:00, 75.90it/s]\n"
     ]
    },
    {
     "name": "stdout",
     "output_type": "stream",
     "text": [
      "Cross-validation fold: 9/10\n"
     ]
    },
    {
     "name": "stderr",
     "output_type": "stream",
     "text": [
      "100%|██████████| 499/499 [00:18<00:00, 26.50it/s]\n",
      "100%|██████████| 29/29 [00:00<00:00, 72.46it/s]\n"
     ]
    },
    {
     "name": "stdout",
     "output_type": "stream",
     "text": [
      "Cross-validation fold: 10/10\n"
     ]
    },
    {
     "name": "stderr",
     "output_type": "stream",
     "text": [
      "100%|██████████| 499/499 [00:18<00:00, 26.39it/s]\n",
      "100%|██████████| 29/29 [00:00<00:00, 74.74it/s]\n"
     ]
    },
    {
     "name": "stdout",
     "output_type": "stream",
     "text": [
      "Best hidden layer size: 17\n",
      "ANN test error: 0.7857142857142857\n",
      "Best lambda: 7.3\n",
      "Linear regression test error: 0.5\n",
      "Baseline test error: 0.5714285714285714\n",
      "Outter fold: 7/10\n",
      "Cross-validation fold: 1/10\n"
     ]
    },
    {
     "name": "stderr",
     "output_type": "stream",
     "text": [
      "100%|██████████| 499/499 [00:18<00:00, 26.43it/s]\n",
      "100%|██████████| 29/29 [00:00<00:00, 73.02it/s]\n"
     ]
    },
    {
     "name": "stdout",
     "output_type": "stream",
     "text": [
      "Cross-validation fold: 2/10\n"
     ]
    },
    {
     "name": "stderr",
     "output_type": "stream",
     "text": [
      "100%|██████████| 499/499 [00:19<00:00, 25.63it/s]\n",
      "100%|██████████| 29/29 [00:00<00:00, 82.54it/s]\n"
     ]
    },
    {
     "name": "stdout",
     "output_type": "stream",
     "text": [
      "Cross-validation fold: 3/10\n"
     ]
    },
    {
     "name": "stderr",
     "output_type": "stream",
     "text": [
      "100%|██████████| 499/499 [00:19<00:00, 25.51it/s]\n",
      "100%|██████████| 29/29 [00:00<00:00, 73.86it/s]\n"
     ]
    },
    {
     "name": "stdout",
     "output_type": "stream",
     "text": [
      "Cross-validation fold: 4/10\n"
     ]
    },
    {
     "name": "stderr",
     "output_type": "stream",
     "text": [
      "100%|██████████| 499/499 [00:24<00:00, 20.40it/s]\n",
      "100%|██████████| 29/29 [00:00<00:00, 48.34it/s]\n"
     ]
    },
    {
     "name": "stdout",
     "output_type": "stream",
     "text": [
      "Cross-validation fold: 5/10\n"
     ]
    },
    {
     "name": "stderr",
     "output_type": "stream",
     "text": [
      "100%|██████████| 499/499 [00:25<00:00, 19.47it/s]\n",
      "100%|██████████| 29/29 [00:00<00:00, 49.39it/s]\n"
     ]
    },
    {
     "name": "stdout",
     "output_type": "stream",
     "text": [
      "Cross-validation fold: 6/10\n"
     ]
    },
    {
     "name": "stderr",
     "output_type": "stream",
     "text": [
      "100%|██████████| 499/499 [00:26<00:00, 18.90it/s]\n",
      "100%|██████████| 29/29 [00:00<00:00, 53.56it/s]\n"
     ]
    },
    {
     "name": "stdout",
     "output_type": "stream",
     "text": [
      "Cross-validation fold: 7/10\n"
     ]
    },
    {
     "name": "stderr",
     "output_type": "stream",
     "text": [
      "100%|██████████| 499/499 [23:12<00:00,  2.79s/it]    \n",
      "100%|██████████| 29/29 [00:00<00:00, 37.84it/s]\n"
     ]
    },
    {
     "name": "stdout",
     "output_type": "stream",
     "text": [
      "Cross-validation fold: 8/10\n"
     ]
    },
    {
     "name": "stderr",
     "output_type": "stream",
     "text": [
      "100%|██████████| 499/499 [00:28<00:00, 17.57it/s]\n",
      "100%|██████████| 29/29 [00:00<00:00, 49.16it/s]\n"
     ]
    },
    {
     "name": "stdout",
     "output_type": "stream",
     "text": [
      "Cross-validation fold: 9/10\n"
     ]
    },
    {
     "name": "stderr",
     "output_type": "stream",
     "text": [
      "100%|██████████| 499/499 [00:26<00:00, 19.03it/s]\n",
      "100%|██████████| 29/29 [00:00<00:00, 49.39it/s]\n"
     ]
    },
    {
     "name": "stdout",
     "output_type": "stream",
     "text": [
      "Cross-validation fold: 10/10\n"
     ]
    },
    {
     "name": "stderr",
     "output_type": "stream",
     "text": [
      "100%|██████████| 499/499 [00:26<00:00, 18.69it/s]\n",
      "100%|██████████| 29/29 [00:00<00:00, 51.89it/s]\n"
     ]
    },
    {
     "name": "stdout",
     "output_type": "stream",
     "text": [
      "Best hidden layer size: 27\n",
      "ANN test error: 0.9259259259259259\n",
      "Best lambda: 29.200000000000003\n",
      "Linear regression test error: 0.5925925925925926\n",
      "Baseline test error: 0.5925925925925926\n",
      "Outter fold: 8/10\n",
      "Cross-validation fold: 1/10\n"
     ]
    },
    {
     "name": "stderr",
     "output_type": "stream",
     "text": [
      "100%|██████████| 499/499 [00:26<00:00, 18.62it/s]\n",
      "100%|██████████| 29/29 [00:00<00:00, 67.51it/s]\n"
     ]
    },
    {
     "name": "stdout",
     "output_type": "stream",
     "text": [
      "Cross-validation fold: 2/10\n"
     ]
    },
    {
     "name": "stderr",
     "output_type": "stream",
     "text": [
      "100%|██████████| 499/499 [00:26<00:00, 18.52it/s]\n",
      "100%|██████████| 29/29 [00:00<00:00, 62.02it/s]\n"
     ]
    },
    {
     "name": "stdout",
     "output_type": "stream",
     "text": [
      "Cross-validation fold: 3/10\n"
     ]
    },
    {
     "name": "stderr",
     "output_type": "stream",
     "text": [
      "100%|██████████| 499/499 [00:27<00:00, 18.45it/s]\n",
      "100%|██████████| 29/29 [00:00<00:00, 44.61it/s]\n"
     ]
    },
    {
     "name": "stdout",
     "output_type": "stream",
     "text": [
      "Cross-validation fold: 4/10\n"
     ]
    },
    {
     "name": "stderr",
     "output_type": "stream",
     "text": [
      "100%|██████████| 499/499 [00:27<00:00, 18.22it/s]\n",
      "100%|██████████| 29/29 [00:00<00:00, 51.09it/s]\n"
     ]
    },
    {
     "name": "stdout",
     "output_type": "stream",
     "text": [
      "Cross-validation fold: 5/10\n"
     ]
    },
    {
     "name": "stderr",
     "output_type": "stream",
     "text": [
      "100%|██████████| 499/499 [00:27<00:00, 18.47it/s]\n",
      "100%|██████████| 29/29 [00:00<00:00, 52.65it/s]\n"
     ]
    },
    {
     "name": "stdout",
     "output_type": "stream",
     "text": [
      "Cross-validation fold: 6/10\n"
     ]
    },
    {
     "name": "stderr",
     "output_type": "stream",
     "text": [
      "100%|██████████| 499/499 [00:27<00:00, 18.17it/s]\n",
      "100%|██████████| 29/29 [00:00<00:00, 44.01it/s]\n"
     ]
    },
    {
     "name": "stdout",
     "output_type": "stream",
     "text": [
      "Cross-validation fold: 7/10\n"
     ]
    },
    {
     "name": "stderr",
     "output_type": "stream",
     "text": [
      "100%|██████████| 499/499 [00:26<00:00, 18.51it/s]\n",
      "100%|██████████| 29/29 [00:00<00:00, 50.79it/s]\n"
     ]
    },
    {
     "name": "stdout",
     "output_type": "stream",
     "text": [
      "Cross-validation fold: 8/10\n"
     ]
    },
    {
     "name": "stderr",
     "output_type": "stream",
     "text": [
      "100%|██████████| 499/499 [00:27<00:00, 18.40it/s]\n",
      "100%|██████████| 29/29 [00:00<00:00, 47.52it/s]\n"
     ]
    },
    {
     "name": "stdout",
     "output_type": "stream",
     "text": [
      "Cross-validation fold: 9/10\n"
     ]
    },
    {
     "name": "stderr",
     "output_type": "stream",
     "text": [
      "100%|██████████| 499/499 [00:27<00:00, 18.43it/s]\n",
      "100%|██████████| 29/29 [00:00<00:00, 54.60it/s]\n"
     ]
    },
    {
     "name": "stdout",
     "output_type": "stream",
     "text": [
      "Cross-validation fold: 10/10\n"
     ]
    },
    {
     "name": "stderr",
     "output_type": "stream",
     "text": [
      "100%|██████████| 499/499 [00:28<00:00, 17.62it/s]\n",
      "100%|██████████| 29/29 [00:00<00:00, 66.92it/s]\n"
     ]
    },
    {
     "name": "stdout",
     "output_type": "stream",
     "text": [
      "Best hidden layer size: 17\n",
      "ANN test error: 0.9259259259259259\n",
      "Best lambda: 19.000000000000004\n",
      "Linear regression test error: 0.4074074074074074\n",
      "Baseline test error: 0.5185185185185185\n",
      "Outter fold: 9/10\n",
      "Cross-validation fold: 1/10\n"
     ]
    },
    {
     "name": "stderr",
     "output_type": "stream",
     "text": [
      "100%|██████████| 499/499 [00:35<00:00, 14.07it/s]\n",
      "100%|██████████| 29/29 [00:00<00:00, 53.28it/s]\n"
     ]
    },
    {
     "name": "stdout",
     "output_type": "stream",
     "text": [
      "Cross-validation fold: 2/10\n"
     ]
    },
    {
     "name": "stderr",
     "output_type": "stream",
     "text": [
      "100%|██████████| 499/499 [00:27<00:00, 18.12it/s]\n",
      "100%|██████████| 29/29 [00:00<00:00, 53.58it/s]\n"
     ]
    },
    {
     "name": "stdout",
     "output_type": "stream",
     "text": [
      "Cross-validation fold: 3/10\n"
     ]
    },
    {
     "name": "stderr",
     "output_type": "stream",
     "text": [
      "100%|██████████| 499/499 [00:27<00:00, 18.16it/s]\n",
      "100%|██████████| 29/29 [00:00<00:00, 47.10it/s]\n"
     ]
    },
    {
     "name": "stdout",
     "output_type": "stream",
     "text": [
      "Cross-validation fold: 4/10\n"
     ]
    },
    {
     "name": "stderr",
     "output_type": "stream",
     "text": [
      "100%|██████████| 499/499 [00:27<00:00, 18.06it/s]\n",
      "100%|██████████| 29/29 [00:00<00:00, 51.52it/s]\n"
     ]
    },
    {
     "name": "stdout",
     "output_type": "stream",
     "text": [
      "Cross-validation fold: 5/10\n"
     ]
    },
    {
     "name": "stderr",
     "output_type": "stream",
     "text": [
      "100%|██████████| 499/499 [00:53<00:00,  9.32it/s]\n",
      "100%|██████████| 29/29 [00:02<00:00, 12.87it/s]\n"
     ]
    },
    {
     "name": "stdout",
     "output_type": "stream",
     "text": [
      "Cross-validation fold: 6/10\n"
     ]
    },
    {
     "name": "stderr",
     "output_type": "stream",
     "text": [
      "100%|██████████| 499/499 [01:02<00:00,  8.05it/s]\n",
      "100%|██████████| 29/29 [00:00<00:00, 46.46it/s]\n"
     ]
    },
    {
     "name": "stdout",
     "output_type": "stream",
     "text": [
      "Cross-validation fold: 7/10\n"
     ]
    },
    {
     "name": "stderr",
     "output_type": "stream",
     "text": [
      "100%|██████████| 499/499 [00:25<00:00, 19.27it/s]\n",
      "100%|██████████| 29/29 [00:00<00:00, 53.64it/s]\n"
     ]
    },
    {
     "name": "stdout",
     "output_type": "stream",
     "text": [
      "Cross-validation fold: 8/10\n"
     ]
    },
    {
     "name": "stderr",
     "output_type": "stream",
     "text": [
      "100%|██████████| 499/499 [00:26<00:00, 18.65it/s]\n",
      "100%|██████████| 29/29 [00:00<00:00, 49.77it/s]\n"
     ]
    },
    {
     "name": "stdout",
     "output_type": "stream",
     "text": [
      "Cross-validation fold: 9/10\n"
     ]
    },
    {
     "name": "stderr",
     "output_type": "stream",
     "text": [
      "100%|██████████| 499/499 [00:26<00:00, 18.54it/s]\n",
      "100%|██████████| 29/29 [00:00<00:00, 48.36it/s]\n"
     ]
    },
    {
     "name": "stdout",
     "output_type": "stream",
     "text": [
      "Cross-validation fold: 10/10\n"
     ]
    },
    {
     "name": "stderr",
     "output_type": "stream",
     "text": [
      "100%|██████████| 499/499 [00:26<00:00, 18.62it/s]\n",
      "100%|██████████| 29/29 [00:00<00:00, 44.89it/s]\n"
     ]
    },
    {
     "name": "stdout",
     "output_type": "stream",
     "text": [
      "Best hidden layer size: 17\n",
      "ANN test error: 1.3703703703703705\n",
      "Best lambda: 15.0\n",
      "Linear regression test error: 0.5185185185185185\n",
      "Baseline test error: 0.5925925925925926\n",
      "Outter fold: 10/10\n",
      "Cross-validation fold: 1/10\n"
     ]
    },
    {
     "name": "stderr",
     "output_type": "stream",
     "text": [
      "100%|██████████| 499/499 [00:28<00:00, 17.23it/s]\n",
      "100%|██████████| 29/29 [00:00<00:00, 53.13it/s]\n"
     ]
    },
    {
     "name": "stdout",
     "output_type": "stream",
     "text": [
      "Cross-validation fold: 2/10\n"
     ]
    },
    {
     "name": "stderr",
     "output_type": "stream",
     "text": [
      "100%|██████████| 499/499 [00:28<00:00, 17.56it/s]\n",
      "100%|██████████| 29/29 [00:00<00:00, 55.11it/s]\n"
     ]
    },
    {
     "name": "stdout",
     "output_type": "stream",
     "text": [
      "Cross-validation fold: 3/10\n"
     ]
    },
    {
     "name": "stderr",
     "output_type": "stream",
     "text": [
      "100%|██████████| 499/499 [00:28<00:00, 17.72it/s]\n",
      "100%|██████████| 29/29 [00:00<00:00, 46.89it/s]\n"
     ]
    },
    {
     "name": "stdout",
     "output_type": "stream",
     "text": [
      "Cross-validation fold: 4/10\n"
     ]
    },
    {
     "name": "stderr",
     "output_type": "stream",
     "text": [
      "100%|██████████| 499/499 [01:30<00:00,  5.53it/s]\n",
      "100%|██████████| 29/29 [00:00<00:00, 46.38it/s]\n"
     ]
    },
    {
     "name": "stdout",
     "output_type": "stream",
     "text": [
      "Cross-validation fold: 5/10\n"
     ]
    },
    {
     "name": "stderr",
     "output_type": "stream",
     "text": [
      "100%|██████████| 499/499 [00:29<00:00, 17.03it/s]\n",
      "100%|██████████| 29/29 [00:00<00:00, 60.04it/s]\n"
     ]
    },
    {
     "name": "stdout",
     "output_type": "stream",
     "text": [
      "Cross-validation fold: 6/10\n"
     ]
    },
    {
     "name": "stderr",
     "output_type": "stream",
     "text": [
      "100%|██████████| 499/499 [00:27<00:00, 18.09it/s]\n",
      "100%|██████████| 29/29 [00:00<00:00, 52.75it/s]\n"
     ]
    },
    {
     "name": "stdout",
     "output_type": "stream",
     "text": [
      "Cross-validation fold: 7/10\n"
     ]
    },
    {
     "name": "stderr",
     "output_type": "stream",
     "text": [
      "100%|██████████| 499/499 [00:28<00:00, 17.74it/s]\n",
      "100%|██████████| 29/29 [00:00<00:00, 51.66it/s]\n"
     ]
    },
    {
     "name": "stdout",
     "output_type": "stream",
     "text": [
      "Cross-validation fold: 8/10\n"
     ]
    },
    {
     "name": "stderr",
     "output_type": "stream",
     "text": [
      "100%|██████████| 499/499 [00:26<00:00, 18.96it/s]\n",
      "100%|██████████| 29/29 [00:00<00:00, 51.80it/s]\n"
     ]
    },
    {
     "name": "stdout",
     "output_type": "stream",
     "text": [
      "Cross-validation fold: 9/10\n"
     ]
    },
    {
     "name": "stderr",
     "output_type": "stream",
     "text": [
      "100%|██████████| 499/499 [00:26<00:00, 19.15it/s]\n",
      "100%|██████████| 29/29 [00:00<00:00, 47.15it/s]\n"
     ]
    },
    {
     "name": "stdout",
     "output_type": "stream",
     "text": [
      "Cross-validation fold: 10/10\n"
     ]
    },
    {
     "name": "stderr",
     "output_type": "stream",
     "text": [
      "100%|██████████| 499/499 [00:28<00:00, 17.62it/s]\n",
      "100%|██████████| 29/29 [00:00<00:00, 49.89it/s]"
     ]
    },
    {
     "name": "stdout",
     "output_type": "stream",
     "text": [
      "Best hidden layer size: 16\n",
      "ANN test error: 1.8148148148148149\n",
      "Best lambda: 28.1\n",
      "Linear regression test error: 0.5555555555555556\n",
      "Baseline test error: 0.7037037037037037\n"
     ]
    },
    {
     "name": "stderr",
     "output_type": "stream",
     "text": [
      "\n"
     ]
    }
   ],
   "source": [
    "from sklearn.neural_network import MLPClassifier\n",
    "from sklearn.dummy import DummyClassifier\n",
    "from tqdm import tqdm\n",
    "\n",
    "K1 = 10\n",
    "K2 = 10\n",
    "\n",
    "k1 = 0\n",
    "k2 = 0\n",
    "\n",
    "lambda_range = list(np.arange(0.1, 50, 0.1))\n",
    "hidden_range = list(range(1, 30))\n",
    "\n",
    "linear_regression_test_errors = []\n",
    "ann_test_errors = []\n",
    "baseline_test_errors = []\n",
    "\n",
    "lr_preds_fold = []\n",
    "ann_preds_fold = []\n",
    "baseline_preds_fold = []\n",
    "\n",
    "true_preds_all_folds = []\n",
    "\n",
    "test_lens = []\n",
    "\n",
    "for par_index, test_index in model_selection.KFold(K1).split(X):\n",
    "    print(\"Outter fold: {0}/{1}\".format(k1 + 1, K1))\n",
    "\n",
    "    X_par, X_test = X[par_index,:], X[test_index,:]\n",
    "    y_par, y_test = y2[par_index], y2[test_index]\n",
    "\n",
    "    true_preds_all_folds.append(y_test)\n",
    "\n",
    "    lr_generr = []\n",
    "    ann_generr = []\n",
    "\n",
    "    train_val_fracs = []\n",
    "\n",
    "    k2 = 0\n",
    "\n",
    "    for train_index, val_index in model_selection.KFold(K2).split(X_par):\n",
    "        print(\"Cross-validation fold: {0}/{1}\".format(k2 + 1, K2))\n",
    "\n",
    "        X_train, X_val = X_par[train_index,:], X_par[val_index,:]\n",
    "        y_train, y_val = y_par[train_index], y_par[val_index]\n",
    "\n",
    "        train_val_fracs.append(len(X_train)/len(X_val))\n",
    "\n",
    "        # Train logistic regression model (ranging lambda regularization parameter)\n",
    "        lr_valerr = []\n",
    "        for l in tqdm(lambda_range):\n",
    "            mA = LogisticRegression(C=l, multi_class='multinomial', max_iter=500, random_state=42).fit(X_train, y_train)\n",
    "            predictions = mA.predict(X_val)\n",
    "            lr_valerr.append(np.mean(predictions != y_val))\n",
    "\n",
    "        lr_generr.append(lr_valerr)\n",
    "        \n",
    "        # Train ANN model\n",
    "        ann_valerr = []\n",
    "        for h in tqdm(hidden_range):\n",
    "            mB = MLPClassifier(hidden_layer_sizes=(h,), max_iter=500, random_state=42)\n",
    "            mB.fit(X_train, y_train)\n",
    "            ann_preds = mB.predict(X_val)\n",
    "            ann_valerr.append(np.mean(ann_preds != y_val))\n",
    "        ann_generr.append(ann_valerr)\n",
    "\n",
    "        k2 += 1\n",
    "\n",
    "    # Compute generalization errors\n",
    "\n",
    "    # ANN CLASSIFICATION\n",
    "    ann_generr = np.dot(np.array(train_val_fracs), np.array(ann_generr))\n",
    "    # Choose best model\n",
    "    best_hidden = hidden_range[np.argmin(ann_generr)]\n",
    "    mB = sklearn.neural_network.MLPClassifier(hidden_layer_sizes=(best_hidden,), max_iter=500, random_state=42).fit(X_par, y_par)\n",
    "    pred_ann = mB.predict(X_test)\n",
    "    ann_testerr = np.mean((pred_ann - y_test) ** 2)\n",
    "\n",
    "    print(\"Best hidden layer size: {0}\".format(best_hidden))\n",
    "    print(\"ANN test error: {0}\".format(ann_testerr))\n",
    "    ann_test_errors.append(ann_testerr)\n",
    "    ann_preds_fold.append(pred_ann)\n",
    "\n",
    "    # LOGISTIC REGRESSION\n",
    "    lr_generr = np.dot(np.array(train_val_fracs), np.array(lr_generr))\n",
    "    # Choose best model\n",
    "    best_lambda = lambda_range[np.argmin(lr_generr)]\n",
    "    mA = LogisticRegression(C=best_lambda, multi_class='multinomial', max_iter=500, random_state=42).fit(X_par, y_par)\n",
    "    pred_lr = mA.predict(X_test)\n",
    "    lr_testerr = np.mean(pred_lr != y_test)\n",
    "\n",
    "    print(\"Best lambda: {0}\".format(best_lambda))\n",
    "    print(\"Linear regression test error: {0}\".format(lr_testerr))\n",
    "    linear_regression_test_errors.append(lr_testerr)\n",
    "    lr_preds_fold.append(pred_lr)\n",
    "\n",
    "    # BASELINE\n",
    "    baseline_model = DummyClassifier(strategy=\"most_frequent\")\n",
    "    baseline_model.fit(X_par, y_par)\n",
    "    pred_base = baseline_model.predict(X_test)\n",
    "    baseline_testerr = np.mean(pred_base != y_test)\n",
    "    baseline_test_errors.append(baseline_testerr)   \n",
    "    baseline_preds_fold.append(pred_base) \n",
    "\n",
    "    print('Baseline test error:',baseline_testerr)\n",
    "\n",
    "    k1 += 1\n",
    "    "
   ]
  },
  {
   "cell_type": "markdown",
   "metadata": {},
   "source": [
    "### Statistical evaluation\n",
    "\n",
    "McNemar test will be used for model error comparison"
   ]
  },
  {
   "cell_type": "code",
   "execution_count": null,
   "metadata": {},
   "outputs": [],
   "source": [
    "from scipy.stats import norm\n",
    "import numpy as np\n",
    "\n",
    "def mcnemar_test_with_ci(predictions_A, predictions_B, true_labels, alpha=0.05):\n",
    "    # Ensure inputs are converted to NumPy arrays for element-wise operations\n",
    "    true_labels = np.array(true_labels)\n",
    "    predictions_A = np.array(predictions_A)\n",
    "    predictions_B = np.array(predictions_B)\n",
    "\n",
    "    # Calculate n12 and n21 based on the prediction matches/mismatches\n",
    "    n12 = np.sum((predictions_A == true_labels) & (predictions_B != true_labels))\n",
    "    n21 = np.sum((predictions_A != true_labels) & (predictions_B == true_labels))\n",
    "\n",
    "    # Total misclassified pairs\n",
    "    n = n12 + n21\n",
    "\n",
    "    # Perform McNemar's test\n",
    "    if n == 0:\n",
    "        p_value = 1.0  # No variability between models\n",
    "        observed_diff = 0\n",
    "        lower_ci = 0\n",
    "        upper_ci = 0\n",
    "    else:\n",
    "        # Compute the test statistic for McNemar's test\n",
    "        statistic = (abs(n12 - n21) - 1) ** 2 / (n12 + n21) if (n12 + n21) > 0 else 0\n",
    "        p_value = 1 - norm.cdf(np.sqrt(statistic))\n",
    "\n",
    "        # Observed difference\n",
    "        observed_diff = (n12 - n21) / n\n",
    "\n",
    "        # Confidence interval for observed difference (manual calculation)\n",
    "        z = norm.ppf(1 - alpha / 2)\n",
    "        ci_margin = z * np.sqrt((n12 + n21) / (n * n)) if n != 0 else 0\n",
    "        lower_ci = observed_diff - ci_margin\n",
    "        upper_ci = observed_diff + ci_margin\n",
    "\n",
    "    # Return the results\n",
    "    return n12, n21, p_value, (lower_ci, upper_ci)"
   ]
  },
  {
   "cell_type": "code",
   "execution_count": null,
   "metadata": {},
   "outputs": [],
   "source": []
  },
  {
   "cell_type": "code",
   "execution_count": 66,
   "metadata": {},
   "outputs": [
    {
     "name": "stdout",
     "output_type": "stream",
     "text": [
      "Comparison between ANN and Logistic Regression:\n",
      "  n12: 1, n21: 10\n",
      "  p-value: 0.0079\n",
      "  95% Confidence Interval for observed difference: (-1.4091331944844812, -0.22723044187915542)\n",
      "\n",
      "\n",
      "Comparison between ANN and Baseline:\n",
      "  n12: 5, n21: 3\n",
      "  p-value: 0.3618\n",
      "  95% Confidence Interval for observed difference: (-0.442951912174839, 0.942951912174839)\n",
      "\n",
      "\n",
      "Comparison between Logistic Regression and Baseline:\n",
      "  n12: 13, n21: 2\n",
      "  p-value: 0.0049\n",
      "  95% Confidence Interval for observed difference: (0.22727280858066934, 1.2393938580859971)\n",
      "\n",
      "\n"
     ]
    }
   ],
   "source": [
    "# Assuming you have all predictions across folds\n",
    "# true_labels_all_folds: True labels for the test sets in each fold (concatenated)\n",
    "# predictions_ann_all_folds: Predictions from ANN model\n",
    "# predictions_log_reg_all_folds: Predictions from Logistic Regression model\n",
    "# predictions_baseline_all_folds: Predictions from Baseline model\n",
    "\n",
    "# Dictionary to store predictions for easier comparison\n",
    "model_predictions = {\n",
    "    \"ANN\": ann_preds_fold[0],\n",
    "    \"Logistic Regression\": lr_preds_fold[0],\n",
    "    \"Baseline\": baseline_preds_fold[0]\n",
    "}\n",
    "\n",
    "# Perform McNemar’s test for each pair of models\n",
    "model_names = list(model_predictions.keys())\n",
    "results = []\n",
    "\n",
    "for i in range(len(model_names)):\n",
    "    for j in range(i + 1, len(model_names)):\n",
    "        model_A = model_names[i]\n",
    "        model_B = model_names[j]\n",
    "        \n",
    "        # Retrieve predictions for both models\n",
    "        predictions_A = model_predictions[model_A]\n",
    "        predictions_B = model_predictions[model_B]\n",
    "\n",
    "        # Run McNemar's test\n",
    "        n12, n21, p_value, ci = mcnemar_test_with_ci(predictions_A, predictions_B, true_preds_all_folds[0])\n",
    "        \n",
    "        # Store results\n",
    "        results.append({\n",
    "            \"Model A\": model_A,\n",
    "            \"Model B\": model_B,\n",
    "            \"n12\": n12,\n",
    "            \"n21\": n21,\n",
    "            \"p-value\": p_value,\n",
    "            \"95% CI\": ci\n",
    "        })\n",
    "\n",
    "# Display results\n",
    "for result in results:\n",
    "    print(f\"Comparison between {result['Model A']} and {result['Model B']}:\")\n",
    "    print(f\"  n12: {result['n12']}, n21: {result['n21']}\")\n",
    "    print(f\"  p-value: {result['p-value']:.4f}\")\n",
    "    print(f\"  95% Confidence Interval for observed difference: {result['95% CI']}\")\n",
    "    print(\"\\n\")"
   ]
  },
  {
   "cell_type": "code",
   "execution_count": 59,
   "metadata": {},
   "outputs": [
    {
     "data": {
      "text/plain": [
       "28"
      ]
     },
     "execution_count": 59,
     "metadata": {},
     "output_type": "execute_result"
    }
   ],
   "source": [
    "len(ann_preds_fold[0])"
   ]
  },
  {
   "cell_type": "markdown",
   "metadata": {},
   "source": [
    "### Logistic regression weights"
   ]
  },
  {
   "cell_type": "code",
   "execution_count": 75,
   "metadata": {},
   "outputs": [
    {
     "name": "stdout",
     "output_type": "stream",
     "text": [
      "error = 0.5555555555555556\n",
      "[[-1.84514946e-05 -2.06589169e-04 -1.87352412e-03  1.02821071e-04\n",
      "  -1.15585269e-03 -2.28410865e-05 -5.43972500e-03 -5.04774785e-03\n",
      "   2.97777842e-03  3.70191381e-04]\n",
      " [-2.71276529e-05 -7.23737007e-04  4.84899166e-04  1.86738183e-05\n",
      "  -5.99769807e-03  5.04261497e-05  3.46263693e-03 -6.52792579e-04\n",
      "   2.01968970e-03 -5.86132370e-04]\n",
      " [-8.87245474e-06 -1.72221292e-03  1.47810728e-03  4.69618965e-04\n",
      "   1.29413064e-03  2.30051434e-05  7.38614165e-04  2.35941723e-03\n",
      "   1.19863838e-04 -1.29009922e-04]\n",
      " [ 5.44516022e-05  2.65253910e-03 -8.94823253e-05 -5.91113855e-04\n",
      "   5.85942012e-03 -5.05902066e-05  1.23847391e-03  3.34112320e-03\n",
      "  -5.11733196e-03  3.44950911e-04]]\n"
     ]
    },
    {
     "data": {
      "image/png": "[encoded data removed]",
      "text/plain": [
       "<Figure size 1200x600 with 1 Axes>"
      ]
     },
     "metadata": {},
     "output_type": "display_data"
    }
   ],
   "source": [
    "from sklearn.metrics import accuracy_score, confusion_matrix, ConfusionMatrixDisplay\n",
    "m_lr = LogisticRegression(C=20, multi_class='multinomial', max_iter=500, random_state=42).fit(X_par, y_par)\n",
    "m_lr.fit(X_par, y_par)\n",
    "cm = confusion_matrix(m_lr.predict(X_test), y_test)\n",
    "# disp = ConfusionMatrixDisplay(confusion_matrix=cm, display_labels=m_lr.classes_)\n",
    "# disp.plot(cmap=plt.cm.Blues)\n",
    "# plt.title(\"Aggregated Confusion Matrix for ANN\")\n",
    "# plt.show()\n",
    "\n",
    "print('error =', np.mean(m_lr.predict(X_test) != y_test))\n",
    "\n",
    "# Get model weights\n",
    "weights = m_lr.coef_\n",
    "\n",
    "print(weights)\n",
    "\n",
    "# Plot weights for each class in the same plot\n",
    "plt.figure(figsize=(12, 6))\n",
    "for i in range(weights.shape[0]):\n",
    "    plt.plot(attributeNames[1:], weights[i], marker='o', label=f'Stage {i+1}')\n",
    "plt.xlabel('Feature Index')\n",
    "plt.ylabel('Weight Value')\n",
    "plt.title('Logistic Regression Weights for Each Stage')\n",
    "plt.legend()\n",
    "plt.grid(True)\n",
    "plt.xticks(rotation=45)\n",
    "plt.tight_layout()\n",
    "plt.savefig('logistic_regression_weights.png')\n",
    "plt.show()"
   ]
  },
  {
   "cell_type": "code",
   "execution_count": null,
   "metadata": {},
   "outputs": [],
   "source": []
  }
 ],
 "metadata": {
  "kernelspec": {
   "display_name": "ml-env",
   "language": "python",
   "name": "python3"
  },
  "language_info": {
   "codemirror_mode": {
    "name": "ipython",
    "version": 3
   },
   "file_extension": ".py",
   "mimetype": "text/x-python",
   "name": "python",
   "nbconvert_exporter": "python",
   "pygments_lexer": "ipython3",
   "version": "3.10.14"
  }
 },
 "nbformat": 4,
 "nbformat_minor": 2
}
