{
 "cells": [
  {
   "cell_type": "code",
   "execution_count": 10,
   "metadata": {},
   "outputs": [],
   "source": [
    "import pandas as pd\n",
    "import numpy as np\n",
    "\n",
    "from sklearn.preprocessing import StandardScaler\n",
    "from scipy.linalg import svd\n",
    "\n",
    "import matplotlib.pyplot as plt\n",
    "import seaborn as sns\n"
   ]
  },
  {
   "cell_type": "code",
   "execution_count": 11,
   "metadata": {},
   "outputs": [],
   "source": [
    "try:\n",
    "    from ucimlrepo import fetch_ucirepo\n",
    "except ImportError:\n",
    "    print(\"Please install the ucimlrepo with pip :)\")"
   ]
  },
  {
   "cell_type": "code",
   "execution_count": 12,
   "metadata": {},
   "outputs": [
    {
     "name": "stdout",
     "output_type": "stream",
     "text": [
      "{'uci_id': 878, 'name': 'Cirrhosis Patient Survival Prediction', 'repository_url': 'https://archive.ics.uci.edu/dataset/878/cirrhosis+patient+survival+prediction+dataset-1', 'data_url': 'https://archive.ics.uci.edu/static/public/878/data.csv', 'abstract': 'Utilize 17 clinical features for predicting survival state of patients with liver cirrhosis. The survival states include 0 = D (death), 1 = C (censored), 2 = CL (censored due to liver transplantation).', 'area': 'Health and Medicine', 'tasks': ['Classification'], 'characteristics': ['Tabular'], 'num_instances': 418, 'num_features': 17, 'feature_types': ['Real', 'Categorical'], 'demographics': ['Age', 'Sex'], 'target_col': ['Status'], 'index_col': ['ID'], 'has_missing_values': 'yes', 'missing_values_symbol': 'NaN', 'year_of_dataset_creation': 1989, 'last_updated': 'Fri Nov 03 2023', 'dataset_doi': '10.24432/C5R02G', 'creators': ['E. Dickson', 'P. Grambsch', 'T. Fleming', 'L. Fisher', 'A. Langworthy'], 'intro_paper': {'ID': 296, 'type': 'NATIVE', 'title': 'Prognosis in primary biliary cirrhosis: Model for decision making', 'authors': 'E. Dickson, P. Grambsch, T. Fleming, L. Fisher, A. Langworthy', 'venue': 'Hepatology', 'year': 1989, 'journal': None, 'DOI': None, 'URL': 'https://www.semanticscholar.org/paper/db1487216b8a4b26f5e5078ea9109ac9d8355b65', 'sha': None, 'corpus': None, 'arxiv': None, 'mag': None, 'acl': None, 'pmid': None, 'pmcid': None}, 'additional_info': {'summary': \"During 1974 to 1984, 424 PBC patients referred to the Mayo Clinic qualified for the randomized placebo-controlled trial testing the drug D-penicillamine. Of these, the initial 312 patients took part in the trial and have mostly comprehensive data. The remaining 112 patients didn't join the clinical trial but agreed to record basic metrics and undergo survival tracking. Six of these patients were soon untraceable after their diagnosis, leaving data for 106 of these individuals in addition to the 312 who were part of the randomized trial.\", 'purpose': 'Cirrhosis results from prolonged liver damage, leading to extensive scarring, often due to conditions like hepatitis or chronic alcohol consumption. The data provided is sourced from a Mayo Clinic study on primary biliary cirrhosis (PBC) of the liver carried out from 1974 to 1984.', 'funded_by': 'Mayo Clinic', 'instances_represent': 'People', 'recommended_data_splits': None, 'sensitive_data': 'Gender, Age', 'preprocessing_description': '1. Drop all the rows where miss value (NA) were present in the Drug column\\n2. Impute missing values with mean results\\n3. One-hot encoding for all category attributes', 'variable_info': '1. ID: unique identifier\\n2. N_Days: number of days between registration and the earlier of death, transplantation, or study analysis time in July 1986\\n3. Status: status of the patient C (censored), CL (censored due to liver tx), or D (death)\\n4. Drug: type of drug D-penicillamine or placebo\\n5. Age: age in [days]\\n6. Sex: M (male) or F (female)\\n7. Ascites: presence of ascites N (No) or Y (Yes)\\n8. Hepatomegaly: presence of hepatomegaly N (No) or Y (Yes)\\n9. Spiders: presence of spiders N (No) or Y (Yes)\\n10. Edema: presence of edema N (no edema and no diuretic therapy for edema), S (edema present without diuretics, or edema resolved by diuretics), or Y (edema despite diuretic therapy)\\n11. Bilirubin: serum bilirubin in [mg/dl]\\n12. Cholesterol: serum cholesterol in [mg/dl]\\n13. Albumin: albumin in [gm/dl]\\n14. Copper: urine copper in [ug/day]\\n15. Alk_Phos: alkaline phosphatase in [U/liter]\\n16. SGOT: SGOT in [U/ml]\\n17. Triglycerides: triglicerides in [mg/dl]\\n18. Platelets: platelets per cubic [ml/1000]\\n19. Prothrombin: prothrombin time in seconds [s]\\n20. Stage: histologic stage of disease (1, 2, 3, or 4)\\n', 'citation': 'Fleming, Thomas R., and David P. Harrington. Counting processes and survival analysis. Vol. 625. John Wiley & Sons, 2013.'}}\n",
      "             name     role         type demographic  \\\n",
      "0              ID       ID      Integer        None   \n",
      "1          N_Days    Other      Integer        None   \n",
      "2          Status   Target  Categorical        None   \n",
      "3            Drug  Feature  Categorical        None   \n",
      "4             Age  Feature      Integer         Age   \n",
      "5             Sex  Feature  Categorical         Sex   \n",
      "6         Ascites  Feature  Categorical        None   \n",
      "7    Hepatomegaly  Feature  Categorical        None   \n",
      "8         Spiders  Feature  Categorical        None   \n",
      "9           Edema  Feature  Categorical        None   \n",
      "10      Bilirubin  Feature   Continuous        None   \n",
      "11    Cholesterol  Feature      Integer        None   \n",
      "12        Albumin  Feature   Continuous        None   \n",
      "13         Copper  Feature      Integer        None   \n",
      "14       Alk_Phos  Feature   Continuous        None   \n",
      "15           SGOT  Feature   Continuous        None   \n",
      "16  Tryglicerides  Feature      Integer        None   \n",
      "17      Platelets  Feature      Integer        None   \n",
      "18    Prothrombin  Feature   Continuous        None   \n",
      "19          Stage  Feature  Categorical        None   \n",
      "\n",
      "                                          description    units missing_values  \n",
      "0                                   unique identifier     None             no  \n",
      "1   number of days between registration and the ea...     None             no  \n",
      "2   status of the patient C (censored), CL (censor...     None             no  \n",
      "3             type of drug D-penicillamine or placebo     None            yes  \n",
      "4                                                 age     days             no  \n",
      "5                              M (male) or F (female)     None             no  \n",
      "6               presence of ascites N (No) or Y (Yes)     None            yes  \n",
      "7          presence of hepatomegaly N (No) or Y (Yes)     None            yes  \n",
      "8               presence of spiders N (No) or Y (Yes)     None            yes  \n",
      "9   presence of edema N (no edema and no diuretic ...     None             no  \n",
      "10                                    serum bilirubin    mg/dl             no  \n",
      "11                                  serum cholesterol    mg/dl            yes  \n",
      "12                                            albumin    gm/dl             no  \n",
      "13                                       urine copper   ug/day            yes  \n",
      "14                               alkaline phosphatase  U/liter            yes  \n",
      "15                                               SGOT     U/ml            yes  \n",
      "16                                      tryglicerides     None            yes  \n",
      "17                                platelets per cubic  ml/1000            yes  \n",
      "18                                   prothrombin time        s            yes  \n",
      "19        histologic stage of disease (1, 2, 3, or 4)     None            yes  \n"
     ]
    }
   ],
   "source": [
    "# fetch dataset \n",
    "cirrhosis_patient_survival_prediction = fetch_ucirepo(id=878) \n",
    "  \n",
    "# data (as pandas dataframes) \n",
    "X = cirrhosis_patient_survival_prediction.data.features \n",
    "  \n",
    "# metadata \n",
    "print(cirrhosis_patient_survival_prediction.metadata) \n",
    "  \n",
    "# variable information \n",
    "print(cirrhosis_patient_survival_prediction.variables)\n",
    "\n",
    "data = pd.DataFrame(X)"
   ]
  },
  {
   "cell_type": "code",
   "execution_count": 13,
   "metadata": {},
   "outputs": [
    {
     "name": "stdout",
     "output_type": "stream",
     "text": [
      "              Drug    Age Sex Ascites Hepatomegaly Spiders Edema  Bilirubin  \\\n",
      "0  D-penicillamine  21464   F       Y            Y       Y     Y       14.5   \n",
      "1  D-penicillamine  20617   F       N            Y       Y     N        1.1   \n",
      "2  D-penicillamine  25594   M       N            N       N     S        1.4   \n",
      "3  D-penicillamine  19994   F       N            Y       Y     S        1.8   \n",
      "4          Placebo  13918   F       N            Y       Y     N        3.4   \n",
      "\n",
      "  Cholesterol  Albumin Copper  Alk_Phos    SGOT Tryglicerides Platelets  \\\n",
      "0         261     2.60    156    1718.0  137.95           172       190   \n",
      "1         302     4.14     54    7394.8  113.52            88       221   \n",
      "2         176     3.48    210     516.0   96.10            55       151   \n",
      "3         244     2.54     64    6121.8   60.63            92       183   \n",
      "4         279     3.53    143     671.0  113.15            72       136   \n",
      "\n",
      "   Prothrombin  Stage  \n",
      "0         12.2    4.0  \n",
      "1         10.6    3.0  \n",
      "2         12.0    4.0  \n",
      "3         10.3    4.0  \n",
      "4         10.9    3.0  \n"
     ]
    }
   ],
   "source": [
    "print(data.head())"
   ]
  },
  {
   "cell_type": "code",
   "execution_count": 15,
   "metadata": {},
   "outputs": [
    {
     "name": "stdout",
     "output_type": "stream",
     "text": [
      "Drug 106\n",
      "Age 0\n",
      "Sex 0\n",
      "Ascites 106\n",
      "Hepatomegaly 106\n",
      "Spiders 106\n",
      "Edema 0\n",
      "Bilirubin 0\n",
      "Cholesterol 134\n",
      "Albumin 0\n",
      "Copper 108\n",
      "Alk_Phos 106\n",
      "SGOT 106\n",
      "Tryglicerides 136\n",
      "Platelets 11\n",
      "Prothrombin 2\n",
      "Stage 6\n"
     ]
    }
   ],
   "source": [
    "#data preparation and cleaning\n",
    "\n",
    "data = data.replace('NaNN', np.nan)\n",
    "\n",
    "cols = data.columns\n",
    "\n",
    "na_per_col = {}\n",
    "\n",
    "for col in cols:\n",
    "    na_per_col[col] = data[col].isna().sum()\n",
    "\n",
    "\n",
    "for key, value in na_per_col.items():\n",
    "    print(key, value)"
   ]
  },
  {
   "cell_type": "markdown",
   "metadata": {},
   "source": [
    "Scaling the data"
   ]
  },
  {
   "cell_type": "code",
   "execution_count": 16,
   "metadata": {},
   "outputs": [],
   "source": [
    "from sklearn.preprocessing import StandardScaler\n",
    "\n",
    "# Scale the numeric features\n",
    "numeric_cols = data.select_dtypes(include=['float64', 'int64']).columns\n",
    "scaler = StandardScaler()\n",
    "data[numeric_cols] = scaler.fit_transform(data[numeric_cols])\n"
   ]
  },
  {
   "cell_type": "markdown",
   "metadata": {},
   "source": [
    "Splitting into train and test"
   ]
  },
  {
   "cell_type": "code",
   "execution_count": 23,
   "metadata": {},
   "outputs": [],
   "source": [
    "from sklearn.model_selection import train_test_split\n",
    "\n",
    "# Define the features and target variable\n",
    "X = data.drop(columns=['Stage'])\n",
    "y = data['Stage']\n",
    "\n",
    "# Split the data\n",
    "X_train, X_test, y_train, y_test = train_test_split(X, y, test_size=0.2, random_state=42)\n"
   ]
  },
  {
   "cell_type": "code",
   "execution_count": null,
   "metadata": {},
   "outputs": [
    {
     "name": "stdout",
     "output_type": "stream",
     "text": [
      "<class 'pandas.core.frame.DataFrame'>\n",
      "<class 'pandas.core.series.Series'>\n"
     ]
    }
   ],
   "source": [
    "#print(data['Stage'].isnull().sum())\n",
    "# import sklearn\n",
    "# print(sklearn.__version__)\n",
    "\n",
    "# print(type(X))  # Should be <class 'pandas.core.frame.DataFrame'>\n",
    "# print(type(y))  # Should be <class 'pandas.core.series.Series'>\n",
    "\n"
   ]
  }
 ],
 "metadata": {
  "kernelspec": {
   "display_name": "my-env",
   "language": "python",
   "name": "python3"
  },
  "language_info": {
   "codemirror_mode": {
    "name": "ipython",
    "version": 3
   },
   "file_extension": ".py",
   "mimetype": "text/x-python",
   "name": "python",
   "nbconvert_exporter": "python",
   "pygments_lexer": "ipython3",
   "version": "3.11.9"
  }
 },
 "nbformat": 4,
 "nbformat_minor": 2
}
