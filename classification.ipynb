{
 "cells": [
  {
   "cell_type": "code",
   "execution_count": 1,
   "metadata": {},
   "outputs": [],
   "source": [
    "import pandas as pd\n",
    "import numpy as np\n",
    "\n",
    "from sklearn.preprocessing import StandardScaler\n",
    "from scipy.linalg import svd\n",
    "\n",
    "import matplotlib.pyplot as plt\n",
    "import seaborn as sns\n"
   ]
  },
  {
   "cell_type": "code",
   "execution_count": 2,
   "metadata": {},
   "outputs": [],
   "source": [
    "try:\n",
    "    from ucimlrepo import fetch_ucirepo\n",
    "except ImportError:\n",
    "    print(\"Please install the ucimlrepo with pip :)\")"
   ]
  },
  {
   "cell_type": "code",
   "execution_count": 45,
   "metadata": {},
   "outputs": [
    {
     "name": "stdout",
     "output_type": "stream",
     "text": [
      "{'uci_id': 878, 'name': 'Cirrhosis Patient Survival Prediction', 'repository_url': 'https://archive.ics.uci.edu/dataset/878/cirrhosis+patient+survival+prediction+dataset-1', 'data_url': 'https://archive.ics.uci.edu/static/public/878/data.csv', 'abstract': 'Utilize 17 clinical features for predicting survival state of patients with liver cirrhosis. The survival states include 0 = D (death), 1 = C (censored), 2 = CL (censored due to liver transplantation).', 'area': 'Health and Medicine', 'tasks': ['Classification'], 'characteristics': ['Tabular'], 'num_instances': 418, 'num_features': 17, 'feature_types': ['Real', 'Categorical'], 'demographics': ['Age', 'Sex'], 'target_col': ['Status'], 'index_col': ['ID'], 'has_missing_values': 'yes', 'missing_values_symbol': 'NaN', 'year_of_dataset_creation': 1989, 'last_updated': 'Fri Nov 03 2023', 'dataset_doi': '10.24432/C5R02G', 'creators': ['E. Dickson', 'P. Grambsch', 'T. Fleming', 'L. Fisher', 'A. Langworthy'], 'intro_paper': {'ID': 296, 'type': 'NATIVE', 'title': 'Prognosis in primary biliary cirrhosis: Model for decision making', 'authors': 'E. Dickson, P. Grambsch, T. Fleming, L. Fisher, A. Langworthy', 'venue': 'Hepatology', 'year': 1989, 'journal': None, 'DOI': None, 'URL': 'https://www.semanticscholar.org/paper/db1487216b8a4b26f5e5078ea9109ac9d8355b65', 'sha': None, 'corpus': None, 'arxiv': None, 'mag': None, 'acl': None, 'pmid': None, 'pmcid': None}, 'additional_info': {'summary': \"During 1974 to 1984, 424 PBC patients referred to the Mayo Clinic qualified for the randomized placebo-controlled trial testing the drug D-penicillamine. Of these, the initial 312 patients took part in the trial and have mostly comprehensive data. The remaining 112 patients didn't join the clinical trial but agreed to record basic metrics and undergo survival tracking. Six of these patients were soon untraceable after their diagnosis, leaving data for 106 of these individuals in addition to the 312 who were part of the randomized trial.\", 'purpose': 'Cirrhosis results from prolonged liver damage, leading to extensive scarring, often due to conditions like hepatitis or chronic alcohol consumption. The data provided is sourced from a Mayo Clinic study on primary biliary cirrhosis (PBC) of the liver carried out from 1974 to 1984.', 'funded_by': 'Mayo Clinic', 'instances_represent': 'People', 'recommended_data_splits': None, 'sensitive_data': 'Gender, Age', 'preprocessing_description': '1. Drop all the rows where miss value (NA) were present in the Drug column\\n2. Impute missing values with mean results\\n3. One-hot encoding for all category attributes', 'variable_info': '1. ID: unique identifier\\n2. N_Days: number of days between registration and the earlier of death, transplantation, or study analysis time in July 1986\\n3. Status: status of the patient C (censored), CL (censored due to liver tx), or D (death)\\n4. Drug: type of drug D-penicillamine or placebo\\n5. Age: age in [days]\\n6. Sex: M (male) or F (female)\\n7. Ascites: presence of ascites N (No) or Y (Yes)\\n8. Hepatomegaly: presence of hepatomegaly N (No) or Y (Yes)\\n9. Spiders: presence of spiders N (No) or Y (Yes)\\n10. Edema: presence of edema N (no edema and no diuretic therapy for edema), S (edema present without diuretics, or edema resolved by diuretics), or Y (edema despite diuretic therapy)\\n11. Bilirubin: serum bilirubin in [mg/dl]\\n12. Cholesterol: serum cholesterol in [mg/dl]\\n13. Albumin: albumin in [gm/dl]\\n14. Copper: urine copper in [ug/day]\\n15. Alk_Phos: alkaline phosphatase in [U/liter]\\n16. SGOT: SGOT in [U/ml]\\n17. Triglycerides: triglicerides in [mg/dl]\\n18. Platelets: platelets per cubic [ml/1000]\\n19. Prothrombin: prothrombin time in seconds [s]\\n20. Stage: histologic stage of disease (1, 2, 3, or 4)\\n', 'citation': 'Fleming, Thomas R., and David P. Harrington. Counting processes and survival analysis. Vol. 625. John Wiley & Sons, 2013.'}}\n",
      "             name     role         type demographic  \\\n",
      "0              ID       ID      Integer        None   \n",
      "1          N_Days    Other      Integer        None   \n",
      "2          Status   Target  Categorical        None   \n",
      "3            Drug  Feature  Categorical        None   \n",
      "4             Age  Feature      Integer         Age   \n",
      "5             Sex  Feature  Categorical         Sex   \n",
      "6         Ascites  Feature  Categorical        None   \n",
      "7    Hepatomegaly  Feature  Categorical        None   \n",
      "8         Spiders  Feature  Categorical        None   \n",
      "9           Edema  Feature  Categorical        None   \n",
      "10      Bilirubin  Feature   Continuous        None   \n",
      "11    Cholesterol  Feature      Integer        None   \n",
      "12        Albumin  Feature   Continuous        None   \n",
      "13         Copper  Feature      Integer        None   \n",
      "14       Alk_Phos  Feature   Continuous        None   \n",
      "15           SGOT  Feature   Continuous        None   \n",
      "16  Tryglicerides  Feature      Integer        None   \n",
      "17      Platelets  Feature      Integer        None   \n",
      "18    Prothrombin  Feature   Continuous        None   \n",
      "19          Stage  Feature  Categorical        None   \n",
      "\n",
      "                                          description    units missing_values  \n",
      "0                                   unique identifier     None             no  \n",
      "1   number of days between registration and the ea...     None             no  \n",
      "2   status of the patient C (censored), CL (censor...     None             no  \n",
      "3             type of drug D-penicillamine or placebo     None            yes  \n",
      "4                                                 age     days             no  \n",
      "5                              M (male) or F (female)     None             no  \n",
      "6               presence of ascites N (No) or Y (Yes)     None            yes  \n",
      "7          presence of hepatomegaly N (No) or Y (Yes)     None            yes  \n",
      "8               presence of spiders N (No) or Y (Yes)     None            yes  \n",
      "9   presence of edema N (no edema and no diuretic ...     None             no  \n",
      "10                                    serum bilirubin    mg/dl             no  \n",
      "11                                  serum cholesterol    mg/dl            yes  \n",
      "12                                            albumin    gm/dl             no  \n",
      "13                                       urine copper   ug/day            yes  \n",
      "14                               alkaline phosphatase  U/liter            yes  \n",
      "15                                               SGOT     U/ml            yes  \n",
      "16                                      tryglicerides     None            yes  \n",
      "17                                platelets per cubic  ml/1000            yes  \n",
      "18                                   prothrombin time        s            yes  \n",
      "19        histologic stage of disease (1, 2, 3, or 4)     None            yes  \n"
     ]
    }
   ],
   "source": [
    "# fetch dataset \n",
    "cirrhosis_patient_survival_prediction = fetch_ucirepo(id=878) \n",
    "  \n",
    "# data (as pandas dataframes) \n",
    "X = cirrhosis_patient_survival_prediction.data.features \n",
    "  \n",
    "# metadata \n",
    "print(cirrhosis_patient_survival_prediction.metadata) \n",
    "  \n",
    "# variable information \n",
    "print(cirrhosis_patient_survival_prediction.variables)\n",
    "\n",
    "data = pd.DataFrame(X)"
   ]
  },
  {
   "cell_type": "code",
   "execution_count": 5,
   "metadata": {},
   "outputs": [
    {
     "name": "stdout",
     "output_type": "stream",
     "text": [
      "              Drug    Age Sex Ascites Hepatomegaly Spiders Edema  Bilirubin  \\\n",
      "0  D-penicillamine  21464   F       Y            Y       Y     Y       14.5   \n",
      "1  D-penicillamine  20617   F       N            Y       Y     N        1.1   \n",
      "2  D-penicillamine  25594   M       N            N       N     S        1.4   \n",
      "3  D-penicillamine  19994   F       N            Y       Y     S        1.8   \n",
      "4          Placebo  13918   F       N            Y       Y     N        3.4   \n",
      "\n",
      "  Cholesterol  Albumin Copper  Alk_Phos    SGOT Tryglicerides Platelets  \\\n",
      "0         261     2.60    156    1718.0  137.95           172       190   \n",
      "1         302     4.14     54    7394.8  113.52            88       221   \n",
      "2         176     3.48    210     516.0   96.10            55       151   \n",
      "3         244     2.54     64    6121.8   60.63            92       183   \n",
      "4         279     3.53    143     671.0  113.15            72       136   \n",
      "\n",
      "   Prothrombin  Stage  \n",
      "0         12.2    4.0  \n",
      "1         10.6    3.0  \n",
      "2         12.0    4.0  \n",
      "3         10.3    4.0  \n",
      "4         10.9    3.0  \n"
     ]
    }
   ],
   "source": [
    "print(data.head())"
   ]
  },
  {
   "cell_type": "code",
   "execution_count": 6,
   "metadata": {},
   "outputs": [
    {
     "name": "stdout",
     "output_type": "stream",
     "text": [
      "Drug 106\n",
      "Age 0\n",
      "Sex 0\n",
      "Ascites 106\n",
      "Hepatomegaly 106\n",
      "Spiders 106\n",
      "Edema 0\n",
      "Bilirubin 0\n",
      "Cholesterol 134\n",
      "Albumin 0\n",
      "Copper 108\n",
      "Alk_Phos 106\n",
      "SGOT 106\n",
      "Tryglicerides 136\n",
      "Platelets 11\n",
      "Prothrombin 2\n",
      "Stage 6\n"
     ]
    }
   ],
   "source": [
    "#data preparation and cleaning\n",
    "\n",
    "data = data.replace('NaNN', np.nan)\n",
    "\n",
    "cols = data.columns\n",
    "\n",
    "na_per_col = {}\n",
    "\n",
    "for col in cols:\n",
    "    na_per_col[col] = data[col].isna().sum()\n",
    "\n",
    "\n",
    "for key, value in na_per_col.items():\n",
    "    print(key, value)"
   ]
  },
  {
   "cell_type": "markdown",
   "metadata": {},
   "source": [
    "# Scaling the data"
   ]
  },
  {
   "cell_type": "code",
   "execution_count": 53,
   "metadata": {},
   "outputs": [],
   "source": [
    "# Select only numeric columns from the data\n",
    "numeric_cols = data.select_dtypes(include=['float64', 'int64']).columns\n",
    "\n",
    "# Fill missing values in the numeric columns with their respective means\n",
    "data[numeric_cols] = data[numeric_cols].fillna(data[numeric_cols].mean())\n"
   ]
  },
  {
   "cell_type": "code",
   "execution_count": 54,
   "metadata": {},
   "outputs": [],
   "source": [
    "from sklearn.preprocessing import StandardScaler\n",
    "\n",
    "# Select numerical columns for scaling\n",
    "num_cols = data.select_dtypes(include=['float64', 'int64']).columns\n",
    "\n",
    "# Initialize the scaler\n",
    "scaler = StandardScaler()\n",
    "\n",
    "# Scale numerical columns only\n",
    "data[num_cols] = scaler.fit_transform(data[num_cols])\n"
   ]
  },
  {
   "cell_type": "code",
   "execution_count": 59,
   "metadata": {},
   "outputs": [
    {
     "data": {
      "image/png": "[encoded data removed]",
      "text/plain": [
       "<Figure size 800x600 with 1 Axes>"
      ]
     },
     "metadata": {},
     "output_type": "display_data"
    }
   ],
   "source": [
    "import matplotlib.pyplot as plt\n",
    "import seaborn as sns\n",
    "\n",
    "# Plot the distribution of the target variable (Stage)\n",
    "plt.figure(figsize=(8, 6))\n",
    "sns.countplot(data=data, x='Stage')\n",
    "plt.title(\"Distribution of Classes in the Target Variable 'Stage'\")\n",
    "plt.xlabel(\"Stage\")\n",
    "plt.ylabel(\"Frequency\")\n",
    "plt.show()\n"
   ]
  },
  {
   "cell_type": "markdown",
   "metadata": {},
   "source": [
    "# Baseline model"
   ]
  },
  {
   "cell_type": "code",
   "execution_count": 66,
   "metadata": {},
   "outputs": [
    {
     "name": "stdout",
     "output_type": "stream",
     "text": [
      "Outer Fold 1\n",
      "Baseline Model Test Error for Fold 1: 0.6428571428571428\n",
      "\n",
      "Outer Fold 2\n",
      "Baseline Model Test Error for Fold 2: 0.6428571428571428\n",
      "\n",
      "Outer Fold 3\n",
      "Baseline Model Test Error for Fold 3: 0.6428571428571428\n",
      "\n",
      "Outer Fold 4\n",
      "Baseline Model Test Error for Fold 4: 0.6428571428571428\n",
      "\n",
      "Outer Fold 5\n",
      "Baseline Model Test Error for Fold 5: 0.6190476190476191\n",
      "\n",
      "Outer Fold 6\n",
      "Baseline Model Test Error for Fold 6: 0.6190476190476191\n",
      "\n",
      "Outer Fold 7\n",
      "Baseline Model Test Error for Fold 7: 0.6190476190476191\n",
      "\n",
      "Outer Fold 8\n",
      "Baseline Model Test Error for Fold 8: 0.6190476190476191\n",
      "\n",
      "Outer Fold 9\n",
      "Baseline Model Test Error for Fold 9: 0.6097560975609756\n",
      "\n",
      "Outer Fold 10\n",
      "Baseline Model Test Error for Fold 10: 0.6341463414634146\n",
      "\n",
      "Baseline Model Test Errors (Outer CV): [0.6428571428571428, 0.6428571428571428, 0.6428571428571428, 0.6428571428571428, 0.6190476190476191, 0.6190476190476191, 0.6190476190476191, 0.6190476190476191, 0.6097560975609756, 0.6341463414634146]\n",
      "Average Baseline Test Error: 0.6291521486643437\n"
     ]
    },
    {
     "name": "stderr",
     "output_type": "stream",
     "text": [
      "c:\\Users\\Lucija\\anaconda3\\envs\\my-env\\Lib\\site-packages\\sklearn\\model_selection\\_split.py:776: UserWarning: The least populated class in y has only 6 members, which is less than n_splits=10.\n",
      "  warnings.warn(\n"
     ]
    }
   ],
   "source": [
    "from sklearn.dummy import DummyClassifier\n",
    "from sklearn.metrics import accuracy_score\n",
    "import numpy as np\n",
    "\n",
    "# Initialize outer cross-validation\n",
    "K1 = 10\n",
    "outer_cv = StratifiedKFold(n_splits=K1, shuffle=True, random_state=42)\n",
    "\n",
    "# Array to store test errors for the baseline model\n",
    "baseline_test_errors = []\n",
    "\n",
    "# Outer loop with fold tracking\n",
    "fold_number = 1\n",
    "for train_index, test_index in outer_cv.split(X, y):\n",
    "    print(f\"Outer Fold {fold_number}\")\n",
    "    \n",
    "    X_train_outer, X_test_outer = X[train_index], X[test_index]\n",
    "    y_train_outer, y_test_outer = y[train_index], y[test_index]\n",
    "\n",
    "    # Baseline model (predicts most frequent class)\n",
    "    baseline_model = DummyClassifier(strategy=\"most_frequent\")\n",
    "    baseline_model.fit(X_train_outer, y_train_outer)\n",
    "    y_pred_baseline = baseline_model.predict(X_test_outer)\n",
    "    baseline_test_error = 1 - accuracy_score(y_test_outer, y_pred_baseline)\n",
    "    baseline_test_errors.append(baseline_test_error)\n",
    "    \n",
    "    # Print the test error for this fold\n",
    "    print(f\"Baseline Model Test Error for Fold {fold_number}: {baseline_test_error}\\n\")\n",
    "    fold_number += 1\n",
    "\n",
    "# Display average test errors for the baseline model\n",
    "print(\"Baseline Model Test Errors (Outer CV):\", baseline_test_errors)\n",
    "print(\"Average Baseline Test Error:\", np.mean(baseline_test_errors))\n"
   ]
  },
  {
   "cell_type": "markdown",
   "metadata": {},
   "source": [
    "# Logistic regression"
   ]
  },
  {
   "cell_type": "code",
   "execution_count": 68,
   "metadata": {},
   "outputs": [
    {
     "name": "stderr",
     "output_type": "stream",
     "text": [
      "c:\\Users\\Lucija\\anaconda3\\envs\\my-env\\Lib\\site-packages\\sklearn\\model_selection\\_split.py:776: UserWarning: The least populated class in y has only 6 members, which is less than n_splits=10.\n",
      "  warnings.warn(\n"
     ]
    },
    {
     "name": "stdout",
     "output_type": "stream",
     "text": [
      "Outer Fold 1\n",
      "Logistic Regression Test Error for Fold 1: 0.5952380952380952\n",
      "\n",
      "Outer Fold 2\n",
      "Logistic Regression Test Error for Fold 2: 0.6428571428571428\n",
      "\n",
      "Outer Fold 3\n",
      "Logistic Regression Test Error for Fold 3: 0.4285714285714286\n",
      "\n",
      "Outer Fold 4\n",
      "Logistic Regression Test Error for Fold 4: 0.6666666666666667\n",
      "\n",
      "Outer Fold 5\n",
      "Logistic Regression Test Error for Fold 5: 0.5\n",
      "\n",
      "Outer Fold 6\n",
      "Logistic Regression Test Error for Fold 6: 0.45238095238095233\n",
      "\n",
      "Outer Fold 7\n",
      "Logistic Regression Test Error for Fold 7: 0.40476190476190477\n",
      "\n",
      "Outer Fold 8\n",
      "Logistic Regression Test Error for Fold 8: 0.5476190476190477\n",
      "\n",
      "Outer Fold 9\n",
      "Logistic Regression Test Error for Fold 9: 0.5853658536585367\n",
      "\n",
      "Outer Fold 10\n",
      "Logistic Regression Test Error for Fold 10: 0.6829268292682926\n",
      "\n",
      "Logistic Regression Test Errors (Outer CV): [0.5952380952380952, 0.6428571428571428, 0.4285714285714286, 0.6666666666666667, 0.5, 0.45238095238095233, 0.40476190476190477, 0.5476190476190477, 0.5853658536585367, 0.6829268292682926]\n",
      "Average Logistic Regression Test Error: 0.5506387921022067\n"
     ]
    }
   ],
   "source": [
    "from sklearn.linear_model import LogisticRegression\n",
    "from sklearn.model_selection import StratifiedKFold, cross_val_score\n",
    "from sklearn.metrics import accuracy_score\n",
    "import numpy as np\n",
    "\n",
    "# Initialize outer cross-validation\n",
    "K1 = 10\n",
    "outer_cv = StratifiedKFold(n_splits=K1, shuffle=True, random_state=42)\n",
    "\n",
    "# Array to store test errors for logistic regression\n",
    "log_reg_test_errors = []\n",
    "\n",
    "# Outer loop with fold tracking\n",
    "fold_number = 1\n",
    "for train_index, test_index in outer_cv.split(X, y):\n",
    "    print(f\"Outer Fold {fold_number}\")\n",
    "    \n",
    "    X_train_outer, X_test_outer = X[train_index], X[test_index]\n",
    "    y_train_outer, y_test_outer = y[train_index], y[test_index]\n",
    "\n",
    "    # Inner loop cross-validation for logistic regression parameter tuning\n",
    "    inner_cv = StratifiedKFold(n_splits=5, shuffle=True, random_state=42)\n",
    "    best_score = -np.inf\n",
    "    best_lambda = None\n",
    "    for C in [0.01, 0.05, 0.1, 0.5, 1.0]:  # Inverse of λ in LogisticRegression\n",
    "        log_reg = LogisticRegression(C=C, max_iter=1000, random_state=42)\n",
    "        scores = cross_val_score(log_reg, X_train_outer, y_train_outer, cv=inner_cv, scoring='accuracy')\n",
    "        if scores.mean() > best_score:\n",
    "            best_score = scores.mean()\n",
    "            best_lambda = C\n",
    "\n",
    "    # Train logistic regression with the best λ on the outer training set\n",
    "    log_reg = LogisticRegression(C=best_lambda, max_iter=1000, random_state=42)\n",
    "    log_reg.fit(X_train_outer, y_train_outer)\n",
    "    y_pred_log_reg = log_reg.predict(X_test_outer)\n",
    "    log_reg_test_error = 1 - accuracy_score(y_test_outer, y_pred_log_reg)\n",
    "    log_reg_test_errors.append(log_reg_test_error)\n",
    "    \n",
    "    # Print the test error for this fold\n",
    "    print(f\"Logistic Regression Test Error for Fold {fold_number}: {log_reg_test_error}\\n\")\n",
    "    fold_number += 1\n",
    "\n",
    "# Display average test errors for logistic regression\n",
    "print(\"Logistic Regression Test Errors (Outer CV):\", log_reg_test_errors)\n",
    "print(\"Average Logistic Regression Test Error:\", np.mean(log_reg_test_errors))\n"
   ]
  },
  {
   "cell_type": "markdown",
   "metadata": {},
   "source": [
    "# ANN"
   ]
  },
  {
   "cell_type": "code",
   "execution_count": 72,
   "metadata": {},
   "outputs": [
    {
     "name": "stderr",
     "output_type": "stream",
     "text": [
      "c:\\Users\\Lucija\\anaconda3\\envs\\my-env\\Lib\\site-packages\\sklearn\\model_selection\\_split.py:776: UserWarning: The least populated class in y has only 6 members, which is less than n_splits=10.\n",
      "  warnings.warn(\n"
     ]
    },
    {
     "name": "stdout",
     "output_type": "stream",
     "text": [
      "Outer Fold 1\n",
      "ANN Test Error for Fold 1 with 5 hidden units: 0.6666666666666667\n",
      "\n",
      "Outer Fold 2\n",
      "ANN Test Error for Fold 2 with 5 hidden units: 0.6428571428571428\n",
      "\n",
      "Outer Fold 3\n",
      "ANN Test Error for Fold 3 with 10 hidden units: 0.6428571428571428\n",
      "\n",
      "Outer Fold 4\n",
      "ANN Test Error for Fold 4 with 5 hidden units: 0.6904761904761905\n",
      "\n",
      "Outer Fold 5\n",
      "ANN Test Error for Fold 5 with 5 hidden units: 0.6666666666666667\n",
      "\n",
      "Outer Fold 6\n",
      "ANN Test Error for Fold 6 with 5 hidden units: 0.5714285714285714\n",
      "\n",
      "Outer Fold 7\n",
      "ANN Test Error for Fold 7 with 5 hidden units: 0.47619047619047616\n",
      "\n",
      "Outer Fold 8\n",
      "ANN Test Error for Fold 8 with 5 hidden units: 0.6666666666666667\n",
      "\n",
      "Outer Fold 9\n",
      "ANN Test Error for Fold 9 with 5 hidden units: 0.6097560975609756\n",
      "\n",
      "Outer Fold 10\n",
      "ANN Test Error for Fold 10 with 5 hidden units: 0.7560975609756098\n",
      "\n",
      "ANN Test Errors (Outer CV): [0.6666666666666667, 0.6428571428571428, 0.6428571428571428, 0.6904761904761905, 0.6666666666666667, 0.5714285714285714, 0.47619047619047616, 0.6666666666666667, 0.6097560975609756, 0.7560975609756098]\n",
      "Average ANN Test Error: 0.6389663182346108\n"
     ]
    },
    {
     "data": {
      "image/png": "[encoded data removed]",
      "text/plain": [
       "<Figure size 640x480 with 2 Axes>"
      ]
     },
     "metadata": {},
     "output_type": "display_data"
    }
   ],
   "source": [
    "from sklearn.neural_network import MLPClassifier\n",
    "from sklearn.model_selection import StratifiedKFold, cross_val_score\n",
    "from sklearn.metrics import accuracy_score, confusion_matrix, ConfusionMatrixDisplay\n",
    "import numpy as np\n",
    "\n",
    "# Initialize outer cross-validation\n",
    "K1 = 10\n",
    "outer_cv = StratifiedKFold(n_splits=K1, shuffle=True, random_state=42)\n",
    "\n",
    "# Arrays to store test errors and true/predicted labels for confusion matrix\n",
    "ann_test_errors = []\n",
    "all_y_true = []\n",
    "all_y_pred = []\n",
    "\n",
    "# Outer loop with fold tracking\n",
    "fold_number = 1\n",
    "for train_index, test_index in outer_cv.split(X, y):\n",
    "    print(f\"Outer Fold {fold_number}\")\n",
    "    \n",
    "    X_train_outer, X_test_outer = X[train_index], X[test_index]\n",
    "    y_train_outer, y_test_outer = y[train_index], y[test_index]\n",
    "\n",
    "    # Inner loop cross-validation for ANN parameter tuning\n",
    "    inner_cv = StratifiedKFold(n_splits=5, shuffle=True, random_state=42)\n",
    "    best_score = -np.inf\n",
    "    best_hidden_units = None\n",
    "    for hidden_units in [5, 10, 20, 30]:  # Complexity-controlling parameter (hidden units)\n",
    "        ann = MLPClassifier(hidden_layer_sizes=(hidden_units,), max_iter=1000, random_state=42)\n",
    "        scores = cross_val_score(ann, X_train_outer, y_train_outer, cv=inner_cv, scoring='accuracy')\n",
    "        if scores.mean() > best_score:\n",
    "            best_score = scores.mean()\n",
    "            best_hidden_units = hidden_units\n",
    "\n",
    "    # Train ANN with the best hidden unit size on the outer training set\n",
    "    ann = MLPClassifier(hidden_layer_sizes=(best_hidden_units,), max_iter=1000, random_state=42)\n",
    "    ann.fit(X_train_outer, y_train_outer)\n",
    "    y_pred_ann = ann.predict(X_test_outer)\n",
    "    \n",
    "    # Append predictions and true labels for this fold\n",
    "    all_y_true.extend(y_test_outer)\n",
    "    all_y_pred.extend(y_pred_ann)\n",
    "    \n",
    "    # Calculate and store test error for this fold\n",
    "    ann_test_error = 1 - accuracy_score(y_test_outer, y_pred_ann)\n",
    "    ann_test_errors.append(ann_test_error)\n",
    "    \n",
    "    print(f\"ANN Test Error for Fold {fold_number} with {best_hidden_units} hidden units: {ann_test_error}\\n\")\n",
    "    fold_number += 1\n",
    "\n",
    "# Display average test errors for ANN\n",
    "print(\"ANN Test Errors (Outer CV):\", ann_test_errors)\n",
    "print(\"Average ANN Test Error:\", np.mean(ann_test_errors))\n",
    "\n",
    "# Generate and display the aggregated confusion matrix\n",
    "cm = confusion_matrix(all_y_true, all_y_pred)\n",
    "disp = ConfusionMatrixDisplay(confusion_matrix=cm, display_labels=ann.classes_)\n",
    "disp.plot(cmap=plt.cm.Blues)\n",
    "plt.title(\"Aggregated Confusion Matrix for ANN\")\n",
    "plt.show()\n"
   ]
  },
  {
   "cell_type": "markdown",
   "metadata": {},
   "source": [
    "# Statistical evaluation"
   ]
  },
  {
   "cell_type": "markdown",
   "metadata": {},
   "source": [
    "### McNemar test"
   ]
  },
  {
   "cell_type": "code",
   "execution_count": 7,
   "metadata": {},
   "outputs": [],
   "source": [
    "from scipy.stats import norm\n",
    "import numpy as np\n",
    "\n",
    "def mcnemar_test_with_ci(predictions_A, predictions_B, true_labels, alpha=0.05):\n",
    "    # Ensure inputs are converted to NumPy arrays for element-wise operations\n",
    "    true_labels = np.array(true_labels)\n",
    "    predictions_A = np.array(predictions_A)\n",
    "    predictions_B = np.array(predictions_B)\n",
    "\n",
    "    # Calculate n12 and n21 based on the prediction matches/mismatches\n",
    "    n12 = np.sum((predictions_A == true_labels) & (predictions_B != true_labels))\n",
    "    n21 = np.sum((predictions_A != true_labels) & (predictions_B == true_labels))\n",
    "\n",
    "    # Total misclassified pairs\n",
    "    n = n12 + n21\n",
    "\n",
    "    # Perform McNemar's test\n",
    "    if n == 0:\n",
    "        p_value = 1.0  # No variability between models\n",
    "        observed_diff = 0\n",
    "        lower_ci = 0\n",
    "        upper_ci = 0\n",
    "    else:\n",
    "        # Compute the test statistic for McNemar's test\n",
    "        statistic = (abs(n12 - n21) - 1) ** 2 / (n12 + n21) if (n12 + n21) > 0 else 0\n",
    "        p_value = 1 - norm.cdf(np.sqrt(statistic))\n",
    "\n",
    "        # Observed difference\n",
    "        observed_diff = (n12 - n21) / n\n",
    "\n",
    "        # Confidence interval for observed difference (manual calculation)\n",
    "        z = norm.ppf(1 - alpha / 2)\n",
    "        ci_margin = z * np.sqrt((n12 + n21) / (n * n)) if n != 0 else 0\n",
    "        lower_ci = observed_diff - ci_margin\n",
    "        upper_ci = observed_diff + ci_margin\n",
    "\n",
    "    # Return the results\n",
    "    return n12, n21, p_value, (lower_ci, upper_ci)\n",
    "\n",
    "\n"
   ]
  },
  {
   "cell_type": "markdown",
   "metadata": {},
   "source": [
    " Logistic Regression vs ANN"
   ]
  }
 ],
 "metadata": {
  "kernelspec": {
   "display_name": "ml-env",
   "language": "python",
   "name": "python3"
  },
  "language_info": {
   "codemirror_mode": {
    "name": "ipython",
    "version": 3
   },
   "file_extension": ".py",
   "mimetype": "text/x-python",
   "name": "python",
   "nbconvert_exporter": "python",
   "pygments_lexer": "ipython3",
   "version": "3.10.14"
  }
 },
 "nbformat": 4,
 "nbformat_minor": 2
}
