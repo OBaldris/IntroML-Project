{
 "cells": [
  {
   "cell_type": "code",
   "execution_count": 1,
   "metadata": {},
   "outputs": [],
   "source": [
    "import pandas as pd\n",
    "import numpy as np\n",
    "\n",
    "from sklearn.preprocessing import StandardScaler\n",
    "from scipy.linalg import svd\n",
    "\n",
    "import matplotlib.pyplot as plt\n",
    "import seaborn as sns\n"
   ]
  },
  {
   "cell_type": "code",
   "execution_count": 2,
   "metadata": {},
   "outputs": [],
   "source": [
    "try:\n",
    "    from ucimlrepo import fetch_ucirepo\n",
    "except ImportError:\n",
    "    print(\"Please install the ucimlrepo with pip :)\")"
   ]
  },
  {
   "cell_type": "markdown",
   "metadata": {},
   "source": [
    "## Initial setup"
   ]
  },
  {
   "cell_type": "markdown",
   "metadata": {},
   "source": [
    "First we fetch the data from ucirepo, and then do some basic analysis of the data."
   ]
  },
  {
   "cell_type": "code",
   "execution_count": 3,
   "metadata": {},
   "outputs": [
    {
     "name": "stdout",
     "output_type": "stream",
     "text": [
      "{'uci_id': 878, 'name': 'Cirrhosis Patient Survival Prediction', 'repository_url': 'https://archive.ics.uci.edu/dataset/878/cirrhosis+patient+survival+prediction+dataset-1', 'data_url': 'https://archive.ics.uci.edu/static/public/878/data.csv', 'abstract': 'Utilize 17 clinical features for predicting survival state of patients with liver cirrhosis. The survival states include 0 = D (death), 1 = C (censored), 2 = CL (censored due to liver transplantation).', 'area': 'Health and Medicine', 'tasks': ['Classification'], 'characteristics': ['Tabular'], 'num_instances': 418, 'num_features': 17, 'feature_types': ['Real', 'Categorical'], 'demographics': ['Age', 'Sex'], 'target_col': ['Status'], 'index_col': ['ID'], 'has_missing_values': 'yes', 'missing_values_symbol': 'NaN', 'year_of_dataset_creation': 1989, 'last_updated': 'Fri Nov 03 2023', 'dataset_doi': '10.24432/C5R02G', 'creators': ['E. Dickson', 'P. Grambsch', 'T. Fleming', 'L. Fisher', 'A. Langworthy'], 'intro_paper': {'ID': 296, 'type': 'NATIVE', 'title': 'Prognosis in primary biliary cirrhosis: Model for decision making', 'authors': 'E. Dickson, P. Grambsch, T. Fleming, L. Fisher, A. Langworthy', 'venue': 'Hepatology', 'year': 1989, 'journal': None, 'DOI': None, 'URL': 'https://www.semanticscholar.org/paper/db1487216b8a4b26f5e5078ea9109ac9d8355b65', 'sha': None, 'corpus': None, 'arxiv': None, 'mag': None, 'acl': None, 'pmid': None, 'pmcid': None}, 'additional_info': {'summary': \"During 1974 to 1984, 424 PBC patients referred to the Mayo Clinic qualified for the randomized placebo-controlled trial testing the drug D-penicillamine. Of these, the initial 312 patients took part in the trial and have mostly comprehensive data. The remaining 112 patients didn't join the clinical trial but agreed to record basic metrics and undergo survival tracking. Six of these patients were soon untraceable after their diagnosis, leaving data for 106 of these individuals in addition to the 312 who were part of the randomized trial.\", 'purpose': 'Cirrhosis results from prolonged liver damage, leading to extensive scarring, often due to conditions like hepatitis or chronic alcohol consumption. The data provided is sourced from a Mayo Clinic study on primary biliary cirrhosis (PBC) of the liver carried out from 1974 to 1984.', 'funded_by': 'Mayo Clinic', 'instances_represent': 'People', 'recommended_data_splits': None, 'sensitive_data': 'Gender, Age', 'preprocessing_description': '1. Drop all the rows where miss value (NA) were present in the Drug column\\n2. Impute missing values with mean results\\n3. One-hot encoding for all category attributes', 'variable_info': '1. ID: unique identifier\\n2. N_Days: number of days between registration and the earlier of death, transplantation, or study analysis time in July 1986\\n3. Status: status of the patient C (censored), CL (censored due to liver tx), or D (death)\\n4. Drug: type of drug D-penicillamine or placebo\\n5. Age: age in [days]\\n6. Sex: M (male) or F (female)\\n7. Ascites: presence of ascites N (No) or Y (Yes)\\n8. Hepatomegaly: presence of hepatomegaly N (No) or Y (Yes)\\n9. Spiders: presence of spiders N (No) or Y (Yes)\\n10. Edema: presence of edema N (no edema and no diuretic therapy for edema), S (edema present without diuretics, or edema resolved by diuretics), or Y (edema despite diuretic therapy)\\n11. Bilirubin: serum bilirubin in [mg/dl]\\n12. Cholesterol: serum cholesterol in [mg/dl]\\n13. Albumin: albumin in [gm/dl]\\n14. Copper: urine copper in [ug/day]\\n15. Alk_Phos: alkaline phosphatase in [U/liter]\\n16. SGOT: SGOT in [U/ml]\\n17. Triglycerides: triglicerides in [mg/dl]\\n18. Platelets: platelets per cubic [ml/1000]\\n19. Prothrombin: prothrombin time in seconds [s]\\n20. Stage: histologic stage of disease (1, 2, 3, or 4)\\n', 'citation': 'Fleming, Thomas R., and David P. Harrington. Counting processes and survival analysis. Vol. 625. John Wiley & Sons, 2013.'}}\n",
      "             name     role         type demographic  \\\n",
      "0              ID       ID      Integer        None   \n",
      "1          N_Days    Other      Integer        None   \n",
      "2          Status   Target  Categorical        None   \n",
      "3            Drug  Feature  Categorical        None   \n",
      "4             Age  Feature      Integer         Age   \n",
      "5             Sex  Feature  Categorical         Sex   \n",
      "6         Ascites  Feature  Categorical        None   \n",
      "7    Hepatomegaly  Feature  Categorical        None   \n",
      "8         Spiders  Feature  Categorical        None   \n",
      "9           Edema  Feature  Categorical        None   \n",
      "10      Bilirubin  Feature   Continuous        None   \n",
      "11    Cholesterol  Feature      Integer        None   \n",
      "12        Albumin  Feature   Continuous        None   \n",
      "13         Copper  Feature      Integer        None   \n",
      "14       Alk_Phos  Feature   Continuous        None   \n",
      "15           SGOT  Feature   Continuous        None   \n",
      "16  Tryglicerides  Feature      Integer        None   \n",
      "17      Platelets  Feature      Integer        None   \n",
      "18    Prothrombin  Feature   Continuous        None   \n",
      "19          Stage  Feature  Categorical        None   \n",
      "\n",
      "                                          description    units missing_values  \n",
      "0                                   unique identifier     None             no  \n",
      "1   number of days between registration and the ea...     None             no  \n",
      "2   status of the patient C (censored), CL (censor...     None             no  \n",
      "3             type of drug D-penicillamine or placebo     None            yes  \n",
      "4                                                 age     days             no  \n",
      "5                              M (male) or F (female)     None             no  \n",
      "6               presence of ascites N (No) or Y (Yes)     None            yes  \n",
      "7          presence of hepatomegaly N (No) or Y (Yes)     None            yes  \n",
      "8               presence of spiders N (No) or Y (Yes)     None            yes  \n",
      "9   presence of edema N (no edema and no diuretic ...     None             no  \n",
      "10                                    serum bilirubin    mg/dl             no  \n",
      "11                                  serum cholesterol    mg/dl            yes  \n",
      "12                                            albumin    gm/dl             no  \n",
      "13                                       urine copper   ug/day            yes  \n",
      "14                               alkaline phosphatase  U/liter            yes  \n",
      "15                                               SGOT     U/ml            yes  \n",
      "16                                      tryglicerides     None            yes  \n",
      "17                                platelets per cubic  ml/1000            yes  \n",
      "18                                   prothrombin time        s            yes  \n",
      "19        histologic stage of disease (1, 2, 3, or 4)     None            yes  \n"
     ]
    }
   ],
   "source": [
    "# fetch dataset \n",
    "cirrhosis_patient_survival_prediction = fetch_ucirepo(id=878) \n",
    "  \n",
    "# data (as pandas dataframes) \n",
    "X = cirrhosis_patient_survival_prediction.data.features \n",
    "  \n",
    "# metadata \n",
    "print(cirrhosis_patient_survival_prediction.metadata) \n",
    "  \n",
    "# variable information \n",
    "print(cirrhosis_patient_survival_prediction.variables)\n",
    "\n",
    "data = pd.DataFrame(X)"
   ]
  },
  {
   "cell_type": "code",
   "execution_count": 4,
   "metadata": {},
   "outputs": [
    {
     "name": "stdout",
     "output_type": "stream",
     "text": [
      "              Drug    Age Sex Ascites Hepatomegaly Spiders Edema  Bilirubin  \\\n",
      "0  D-penicillamine  21464   F       Y            Y       Y     Y       14.5   \n",
      "1  D-penicillamine  20617   F       N            Y       Y     N        1.1   \n",
      "2  D-penicillamine  25594   M       N            N       N     S        1.4   \n",
      "3  D-penicillamine  19994   F       N            Y       Y     S        1.8   \n",
      "4          Placebo  13918   F       N            Y       Y     N        3.4   \n",
      "\n",
      "  Cholesterol  Albumin Copper  Alk_Phos    SGOT Tryglicerides Platelets  \\\n",
      "0         261     2.60    156    1718.0  137.95           172       190   \n",
      "1         302     4.14     54    7394.8  113.52            88       221   \n",
      "2         176     3.48    210     516.0   96.10            55       151   \n",
      "3         244     2.54     64    6121.8   60.63            92       183   \n",
      "4         279     3.53    143     671.0  113.15            72       136   \n",
      "\n",
      "   Prothrombin  Stage  \n",
      "0         12.2    4.0  \n",
      "1         10.6    3.0  \n",
      "2         12.0    4.0  \n",
      "3         10.3    4.0  \n",
      "4         10.9    3.0  \n"
     ]
    }
   ],
   "source": [
    "print(data.head())"
   ]
  },
  {
   "cell_type": "code",
   "execution_count": 5,
   "metadata": {},
   "outputs": [
    {
     "name": "stdout",
     "output_type": "stream",
     "text": [
      "Drug 106\n",
      "Age 0\n",
      "Sex 0\n",
      "Ascites 106\n",
      "Hepatomegaly 106\n",
      "Spiders 106\n",
      "Edema 0\n",
      "Bilirubin 0\n",
      "Cholesterol 134\n",
      "Albumin 0\n",
      "Copper 108\n",
      "Alk_Phos 106\n",
      "SGOT 106\n",
      "Tryglicerides 136\n",
      "Platelets 11\n",
      "Prothrombin 2\n",
      "Stage 6\n"
     ]
    }
   ],
   "source": [
    "#data preparation and cleaning\n",
    "\n",
    "data = data.replace('NaNN', np.nan)\n",
    "\n",
    "cols = data.columns\n",
    "\n",
    "na_per_col = {}\n",
    "\n",
    "for col in cols:\n",
    "    na_per_col[col] = data[col].isna().sum()\n",
    "\n",
    "\n",
    "for key, value in na_per_col.items():\n",
    "    print(key, value)"
   ]
  },
  {
   "cell_type": "code",
   "execution_count": 6,
   "metadata": {},
   "outputs": [
    {
     "name": "stderr",
     "output_type": "stream",
     "text": [
      "C:\\Users\\Leire\\AppData\\Local\\Temp\\ipykernel_4648\\2112107566.py:1: FutureWarning: A value is trying to be set on a copy of a DataFrame or Series through chained assignment using an inplace method.\n",
      "The behavior will change in pandas 3.0. This inplace method will never work because the intermediate object on which we are setting values always behaves as a copy.\n",
      "\n",
      "For example, when doing 'df[col].method(value, inplace=True)', try using 'df.method({col: value}, inplace=True)' or df[col] = df[col].method(value) instead, to perform the operation inplace on the original object.\n",
      "\n",
      "\n",
      "  data['Drug'].replace(['D-penicillamine', 'Placebo'], [1, 0], inplace=True)\n",
      "C:\\Users\\Leire\\AppData\\Local\\Temp\\ipykernel_4648\\2112107566.py:1: FutureWarning: Downcasting behavior in `replace` is deprecated and will be removed in a future version. To retain the old behavior, explicitly call `result.infer_objects(copy=False)`. To opt-in to the future behavior, set `pd.set_option('future.no_silent_downcasting', True)`\n",
      "  data['Drug'].replace(['D-penicillamine', 'Placebo'], [1, 0], inplace=True)\n",
      "C:\\Users\\Leire\\AppData\\Local\\Temp\\ipykernel_4648\\2112107566.py:2: FutureWarning: A value is trying to be set on a copy of a DataFrame or Series through chained assignment using an inplace method.\n",
      "The behavior will change in pandas 3.0. This inplace method will never work because the intermediate object on which we are setting values always behaves as a copy.\n",
      "\n",
      "For example, when doing 'df[col].method(value, inplace=True)', try using 'df.method({col: value}, inplace=True)' or df[col] = df[col].method(value) instead, to perform the operation inplace on the original object.\n",
      "\n",
      "\n",
      "  data['Sex'].replace(['F', 'M'], [0, 1], inplace=True)\n",
      "C:\\Users\\Leire\\AppData\\Local\\Temp\\ipykernel_4648\\2112107566.py:2: FutureWarning: Downcasting behavior in `replace` is deprecated and will be removed in a future version. To retain the old behavior, explicitly call `result.infer_objects(copy=False)`. To opt-in to the future behavior, set `pd.set_option('future.no_silent_downcasting', True)`\n",
      "  data['Sex'].replace(['F', 'M'], [0, 1], inplace=True)\n",
      "C:\\Users\\Leire\\AppData\\Local\\Temp\\ipykernel_4648\\2112107566.py:3: FutureWarning: A value is trying to be set on a copy of a DataFrame or Series through chained assignment using an inplace method.\n",
      "The behavior will change in pandas 3.0. This inplace method will never work because the intermediate object on which we are setting values always behaves as a copy.\n",
      "\n",
      "For example, when doing 'df[col].method(value, inplace=True)', try using 'df.method({col: value}, inplace=True)' or df[col] = df[col].method(value) instead, to perform the operation inplace on the original object.\n",
      "\n",
      "\n",
      "  data['Ascites'].replace(['N', 'Y'], [0, 1], inplace=True)\n",
      "C:\\Users\\Leire\\AppData\\Local\\Temp\\ipykernel_4648\\2112107566.py:3: FutureWarning: Downcasting behavior in `replace` is deprecated and will be removed in a future version. To retain the old behavior, explicitly call `result.infer_objects(copy=False)`. To opt-in to the future behavior, set `pd.set_option('future.no_silent_downcasting', True)`\n",
      "  data['Ascites'].replace(['N', 'Y'], [0, 1], inplace=True)\n",
      "C:\\Users\\Leire\\AppData\\Local\\Temp\\ipykernel_4648\\2112107566.py:4: FutureWarning: A value is trying to be set on a copy of a DataFrame or Series through chained assignment using an inplace method.\n",
      "The behavior will change in pandas 3.0. This inplace method will never work because the intermediate object on which we are setting values always behaves as a copy.\n",
      "\n",
      "For example, when doing 'df[col].method(value, inplace=True)', try using 'df.method({col: value}, inplace=True)' or df[col] = df[col].method(value) instead, to perform the operation inplace on the original object.\n",
      "\n",
      "\n",
      "  data['Hepatomegaly'].replace(['N', 'Y'], [0, 1], inplace=True)\n",
      "C:\\Users\\Leire\\AppData\\Local\\Temp\\ipykernel_4648\\2112107566.py:4: FutureWarning: Downcasting behavior in `replace` is deprecated and will be removed in a future version. To retain the old behavior, explicitly call `result.infer_objects(copy=False)`. To opt-in to the future behavior, set `pd.set_option('future.no_silent_downcasting', True)`\n",
      "  data['Hepatomegaly'].replace(['N', 'Y'], [0, 1], inplace=True)\n",
      "C:\\Users\\Leire\\AppData\\Local\\Temp\\ipykernel_4648\\2112107566.py:5: FutureWarning: A value is trying to be set on a copy of a DataFrame or Series through chained assignment using an inplace method.\n",
      "The behavior will change in pandas 3.0. This inplace method will never work because the intermediate object on which we are setting values always behaves as a copy.\n",
      "\n",
      "For example, when doing 'df[col].method(value, inplace=True)', try using 'df.method({col: value}, inplace=True)' or df[col] = df[col].method(value) instead, to perform the operation inplace on the original object.\n",
      "\n",
      "\n",
      "  data['Spiders'].replace(['N', 'Y'], [0, 1], inplace=True)\n",
      "C:\\Users\\Leire\\AppData\\Local\\Temp\\ipykernel_4648\\2112107566.py:5: FutureWarning: Downcasting behavior in `replace` is deprecated and will be removed in a future version. To retain the old behavior, explicitly call `result.infer_objects(copy=False)`. To opt-in to the future behavior, set `pd.set_option('future.no_silent_downcasting', True)`\n",
      "  data['Spiders'].replace(['N', 'Y'], [0, 1], inplace=True)\n",
      "C:\\Users\\Leire\\AppData\\Local\\Temp\\ipykernel_4648\\2112107566.py:6: FutureWarning: A value is trying to be set on a copy of a DataFrame or Series through chained assignment using an inplace method.\n",
      "The behavior will change in pandas 3.0. This inplace method will never work because the intermediate object on which we are setting values always behaves as a copy.\n",
      "\n",
      "For example, when doing 'df[col].method(value, inplace=True)', try using 'df.method({col: value}, inplace=True)' or df[col] = df[col].method(value) instead, to perform the operation inplace on the original object.\n",
      "\n",
      "\n",
      "  data['Edema'].replace(['N', 'Y', 'S'], [0, 1, 2], inplace=True)\n",
      "C:\\Users\\Leire\\AppData\\Local\\Temp\\ipykernel_4648\\2112107566.py:6: FutureWarning: Downcasting behavior in `replace` is deprecated and will be removed in a future version. To retain the old behavior, explicitly call `result.infer_objects(copy=False)`. To opt-in to the future behavior, set `pd.set_option('future.no_silent_downcasting', True)`\n",
      "  data['Edema'].replace(['N', 'Y', 'S'], [0, 1, 2], inplace=True)\n"
     ]
    }
   ],
   "source": [
    "data['Drug'].replace(['D-penicillamine', 'Placebo'], [1, 0], inplace=True)\n",
    "data['Sex'].replace(['F', 'M'], [0, 1], inplace=True)\n",
    "data['Ascites'].replace(['N', 'Y'], [0, 1], inplace=True)\n",
    "data['Hepatomegaly'].replace(['N', 'Y'], [0, 1], inplace=True)\n",
    "data['Spiders'].replace(['N', 'Y'], [0, 1], inplace=True)\n",
    "data['Edema'].replace(['N', 'Y', 'S'], [0, 1, 2], inplace=True)"
   ]
  },
  {
   "cell_type": "markdown",
   "metadata": {},
   "source": [
    "We realized there are some variables where the values are saved as strings and some of them had the value \"NaNN\", indicating a missing value, but not being detected as a nan. Here we count the number of missing values per variable."
   ]
  },
  {
   "cell_type": "code",
   "execution_count": 7,
   "metadata": {},
   "outputs": [
    {
     "name": "stdout",
     "output_type": "stream",
     "text": [
      "             Drug           Age         Sex     Ascites  Hepatomegaly  \\\n",
      "count  312.000000    418.000000  418.000000  312.000000    312.000000   \n",
      "mean     0.506410  18533.351675    0.105263    0.076923      0.512821   \n",
      "std      0.500762   3815.845055    0.307260    0.266897      0.500639   \n",
      "min      0.000000   9598.000000    0.000000    0.000000      0.000000   \n",
      "25%      0.000000  15644.500000    0.000000    0.000000      0.000000   \n",
      "50%      1.000000  18628.000000    0.000000    0.000000      1.000000   \n",
      "75%      1.000000  21272.500000    0.000000    0.000000      1.000000   \n",
      "max      1.000000  28650.000000    1.000000    1.000000      1.000000   \n",
      "\n",
      "          Spiders       Edema   Bilirubin     Albumin      Alk_Phos  \\\n",
      "count  312.000000  418.000000  418.000000  418.000000    312.000000   \n",
      "mean     0.288462    0.258373    3.220813    3.497440   1982.655769   \n",
      "std      0.453775    0.634907    4.407506    0.424972   2140.388824   \n",
      "min      0.000000    0.000000    0.300000    1.960000    289.000000   \n",
      "25%      0.000000    0.000000    0.800000    3.242500    871.500000   \n",
      "50%      0.000000    0.000000    1.400000    3.530000   1259.000000   \n",
      "75%      1.000000    0.000000    3.400000    3.770000   1980.000000   \n",
      "max      1.000000    2.000000   28.000000    4.640000  13862.400000   \n",
      "\n",
      "             SGOT  Prothrombin       Stage  \n",
      "count  312.000000   416.000000  412.000000  \n",
      "mean   122.556346    10.731731    3.024272  \n",
      "std     56.699525     1.022000    0.882042  \n",
      "min     26.350000     9.000000    1.000000  \n",
      "25%     80.600000    10.000000    2.000000  \n",
      "50%    114.700000    10.600000    3.000000  \n",
      "75%    151.900000    11.100000    4.000000  \n",
      "max    457.250000    18.000000    4.000000  \n"
     ]
    }
   ],
   "source": [
    "print(data.describe())"
   ]
  },
  {
   "cell_type": "markdown",
   "metadata": {},
   "source": [
    "# PCA\n",
    "\n",
    "Now we'll analyze PCA and plot different things. First, we will drop the binary/text variables and drop all the touples containing missing values."
   ]
  },
  {
   "cell_type": "code",
   "execution_count": 18,
   "metadata": {},
   "outputs": [
    {
     "data": {
      "text/html": [
       "<div>\n",
       "<style scoped>\n",
       "    .dataframe tbody tr th:only-of-type {\n",
       "        vertical-align: middle;\n",
       "    }\n",
       "\n",
       "    .dataframe tbody tr th {\n",
       "        vertical-align: top;\n",
       "    }\n",
       "\n",
       "    .dataframe thead th {\n",
       "        text-align: right;\n",
       "    }\n",
       "</style>\n",
       "<table border=\"1\" class=\"dataframe\">\n",
       "  <thead>\n",
       "    <tr style=\"text-align: right;\">\n",
       "      <th></th>\n",
       "      <th>Age</th>\n",
       "      <th>Bilirubin</th>\n",
       "      <th>Cholesterol</th>\n",
       "      <th>Albumin</th>\n",
       "      <th>Copper</th>\n",
       "      <th>Alk_Phos</th>\n",
       "      <th>SGOT</th>\n",
       "      <th>Tryglicerides</th>\n",
       "      <th>Platelets</th>\n",
       "      <th>Prothrombin</th>\n",
       "      <th>Stage</th>\n",
       "    </tr>\n",
       "  </thead>\n",
       "  <tbody>\n",
       "    <tr>\n",
       "      <th>count</th>\n",
       "      <td>276.000000</td>\n",
       "      <td>276.000000</td>\n",
       "      <td>276.000000</td>\n",
       "      <td>276.000000</td>\n",
       "      <td>276.000000</td>\n",
       "      <td>276.000000</td>\n",
       "      <td>276.000000</td>\n",
       "      <td>276.000000</td>\n",
       "      <td>276.000000</td>\n",
       "      <td>276.000000</td>\n",
       "      <td>276.000000</td>\n",
       "    </tr>\n",
       "    <tr>\n",
       "      <th>mean</th>\n",
       "      <td>18189.326087</td>\n",
       "      <td>3.333696</td>\n",
       "      <td>371.260870</td>\n",
       "      <td>3.516812</td>\n",
       "      <td>100.768116</td>\n",
       "      <td>1996.611594</td>\n",
       "      <td>124.119239</td>\n",
       "      <td>124.978261</td>\n",
       "      <td>261.771739</td>\n",
       "      <td>10.735507</td>\n",
       "      <td>3.039855</td>\n",
       "    </tr>\n",
       "    <tr>\n",
       "      <th>std</th>\n",
       "      <td>3843.555619</td>\n",
       "      <td>4.601074</td>\n",
       "      <td>234.788363</td>\n",
       "      <td>0.404789</td>\n",
       "      <td>88.268746</td>\n",
       "      <td>2115.477894</td>\n",
       "      <td>56.719952</td>\n",
       "      <td>65.280761</td>\n",
       "      <td>93.128857</td>\n",
       "      <td>1.008315</td>\n",
       "      <td>0.853999</td>\n",
       "    </tr>\n",
       "    <tr>\n",
       "      <th>min</th>\n",
       "      <td>9598.000000</td>\n",
       "      <td>0.300000</td>\n",
       "      <td>120.000000</td>\n",
       "      <td>1.960000</td>\n",
       "      <td>4.000000</td>\n",
       "      <td>289.000000</td>\n",
       "      <td>28.380000</td>\n",
       "      <td>33.000000</td>\n",
       "      <td>62.000000</td>\n",
       "      <td>9.000000</td>\n",
       "      <td>1.000000</td>\n",
       "    </tr>\n",
       "    <tr>\n",
       "      <th>25%</th>\n",
       "      <td>15162.500000</td>\n",
       "      <td>0.800000</td>\n",
       "      <td>249.500000</td>\n",
       "      <td>3.310000</td>\n",
       "      <td>42.750000</td>\n",
       "      <td>922.500000</td>\n",
       "      <td>82.457500</td>\n",
       "      <td>85.000000</td>\n",
       "      <td>200.000000</td>\n",
       "      <td>10.000000</td>\n",
       "      <td>2.000000</td>\n",
       "    </tr>\n",
       "    <tr>\n",
       "      <th>50%</th>\n",
       "      <td>18156.500000</td>\n",
       "      <td>1.400000</td>\n",
       "      <td>310.000000</td>\n",
       "      <td>3.545000</td>\n",
       "      <td>74.000000</td>\n",
       "      <td>1277.500000</td>\n",
       "      <td>116.625000</td>\n",
       "      <td>108.000000</td>\n",
       "      <td>257.000000</td>\n",
       "      <td>10.600000</td>\n",
       "      <td>3.000000</td>\n",
       "    </tr>\n",
       "    <tr>\n",
       "      <th>75%</th>\n",
       "      <td>20667.500000</td>\n",
       "      <td>3.525000</td>\n",
       "      <td>401.000000</td>\n",
       "      <td>3.772500</td>\n",
       "      <td>129.250000</td>\n",
       "      <td>2068.250000</td>\n",
       "      <td>153.450000</td>\n",
       "      <td>151.250000</td>\n",
       "      <td>318.250000</td>\n",
       "      <td>11.200000</td>\n",
       "      <td>4.000000</td>\n",
       "    </tr>\n",
       "    <tr>\n",
       "      <th>max</th>\n",
       "      <td>28650.000000</td>\n",
       "      <td>28.000000</td>\n",
       "      <td>1775.000000</td>\n",
       "      <td>4.400000</td>\n",
       "      <td>588.000000</td>\n",
       "      <td>13862.400000</td>\n",
       "      <td>457.250000</td>\n",
       "      <td>598.000000</td>\n",
       "      <td>563.000000</td>\n",
       "      <td>17.100000</td>\n",
       "      <td>4.000000</td>\n",
       "    </tr>\n",
       "  </tbody>\n",
       "</table>\n",
       "</div>"
      ],
      "text/plain": [
       "                Age   Bilirubin  Cholesterol     Albumin      Copper  \\\n",
       "count    276.000000  276.000000   276.000000  276.000000  276.000000   \n",
       "mean   18189.326087    3.333696   371.260870    3.516812  100.768116   \n",
       "std     3843.555619    4.601074   234.788363    0.404789   88.268746   \n",
       "min     9598.000000    0.300000   120.000000    1.960000    4.000000   \n",
       "25%    15162.500000    0.800000   249.500000    3.310000   42.750000   \n",
       "50%    18156.500000    1.400000   310.000000    3.545000   74.000000   \n",
       "75%    20667.500000    3.525000   401.000000    3.772500  129.250000   \n",
       "max    28650.000000   28.000000  1775.000000    4.400000  588.000000   \n",
       "\n",
       "           Alk_Phos        SGOT  Tryglicerides   Platelets  Prothrombin  \\\n",
       "count    276.000000  276.000000     276.000000  276.000000   276.000000   \n",
       "mean    1996.611594  124.119239     124.978261  261.771739    10.735507   \n",
       "std     2115.477894   56.719952      65.280761   93.128857     1.008315   \n",
       "min      289.000000   28.380000      33.000000   62.000000     9.000000   \n",
       "25%      922.500000   82.457500      85.000000  200.000000    10.000000   \n",
       "50%     1277.500000  116.625000     108.000000  257.000000    10.600000   \n",
       "75%     2068.250000  153.450000     151.250000  318.250000    11.200000   \n",
       "max    13862.400000  457.250000     598.000000  563.000000    17.100000   \n",
       "\n",
       "            Stage  \n",
       "count  276.000000  \n",
       "mean     3.039855  \n",
       "std      0.853999  \n",
       "min      1.000000  \n",
       "25%      2.000000  \n",
       "50%      3.000000  \n",
       "75%      4.000000  \n",
       "max      4.000000  "
      ]
     },
     "execution_count": 18,
     "metadata": {},
     "output_type": "execute_result"
    }
   ],
   "source": [
    "data.drop(['Drug', 'Sex', 'Ascites', 'Hepatomegaly', 'Spiders', 'Edema'], axis=1, inplace=True)\n",
    "\n",
    "data = data.dropna()\n",
    "\n",
    "data.describe()"
   ]
  },
  {
   "cell_type": "markdown",
   "metadata": {},
   "source": [
    "Now, converting all strings to int"
   ]
  },
  {
   "cell_type": "code",
   "execution_count": 9,
   "metadata": {},
   "outputs": [
    {
     "name": "stdout",
     "output_type": "stream",
     "text": [
      "Age\n",
      "Copper\n",
      "Platelets\n",
      "Cholesterol\n",
      "Tryglicerides\n"
     ]
    }
   ],
   "source": [
    "#convert all data to integers\n",
    "\n",
    "ints = ['Age', 'Copper', 'Platelets', 'Cholesterol', 'Tryglicerides']\n",
    "\n",
    "for i in ints:\n",
    "    print(i)\n",
    "    data[i] = list(map(int, data[i]))"
   ]
  },
  {
   "cell_type": "markdown",
   "metadata": {},
   "source": [
    "No we will fill a matrix with the values for easo of use for the PCA, plotting and transformations."
   ]
  },
  {
   "cell_type": "code",
   "execution_count": 10,
   "metadata": {},
   "outputs": [
    {
     "name": "stdout",
     "output_type": "stream",
     "text": [
      "276\n"
     ]
    }
   ],
   "source": [
    "print(len(data))"
   ]
  },
  {
   "cell_type": "code",
   "execution_count": 24,
   "metadata": {},
   "outputs": [
    {
     "name": "stdout",
     "output_type": "stream",
     "text": [
      "276 11 275\n"
     ]
    }
   ],
   "source": [
    "# Extract attribute names (1st row, column 4 to 12)\n",
    "attributeNames = list(data.columns)\n",
    "\n",
    "# Extract class names to python list\n",
    "classLabels = sorted(set(data.Age))\n",
    "y = data.Age\n",
    "\n",
    "# Preallocate memory, then extract excel data to matrix X\n",
    "X = np.empty((len(data), 10))\n",
    "for i, col_id in enumerate(range(1,11)):\n",
    "    X[:, i] = np.asarray(data.iloc[:, col_id])\n",
    "\n",
    "# Compute values of N, M and C.\n",
    "N = len(y)\n",
    "M = len(attributeNames)\n",
    "C = len(classLabels)\n",
    "\n",
    "print(N, M, C)"
   ]
  },
  {
   "cell_type": "code",
   "execution_count": 25,
   "metadata": {},
   "outputs": [],
   "source": [
    "convert = ['Copper', 'Alk_Phos', 'SGOT', 'Tryglicerides', 'Prothrombin', 'Cholesterol', 'Bilirubin']\n",
    "\n",
    "# Convert the columns to log scale\n",
    "# for col in convert:\n",
    "#     data[col] = np.log(data[col])\n",
    "\n",
    "# Preallocate memory, then extract excel data to matrix X\n",
    "X = np.empty((len(data), 10))\n",
    "for i, col_id in enumerate(range(0,10)):\n",
    "    X[:, i] = np.asarray(data.iloc[:, col_id])\n",
    "\n",
    "scaler = StandardScaler()\n",
    "Y_scaled = scaler.fit_transform(X)\n",
    "\n",
    "# Subtract mean value from data\n",
    "Y_scaled = Y_scaled - np.ones((N, 1)) * Y_scaled.mean(0)"
   ]
  },
  {
   "cell_type": "code",
   "execution_count": null,
   "metadata": {},
   "outputs": [],
   "source": [
    "alk_phos_2 = Y_scaled[:, 1]**2\n",
    "alk_phos_3 = Y_scaled[:, 1]**3\n"
   ]
  },
  {
   "cell_type": "code",
   "execution_count": 13,
   "metadata": {},
   "outputs": [],
   "source": [
    "import warnings\n",
    "warnings.filterwarnings(\"ignore\")"
   ]
  },
  {
   "cell_type": "code",
   "execution_count": 26,
   "metadata": {},
   "outputs": [
    {
     "name": "stdout",
     "output_type": "stream",
     "text": [
      "Outter fold: 1/3\n",
      "Cross-validation fold: 1/3\n",
      "Cross-validation fold: 2/3\n",
      "Cross-validation fold: 3/3\n",
      "Best lambda: 46.6\n",
      "Linneal regression test error: 0.7739214489940349\n",
      "Best hidden layer size: 20\n",
      "ANN test error: 0.8930003982899363\n",
      "0.847471601270361\n",
      "Outter fold: 2/3\n",
      "Cross-validation fold: 1/3\n",
      "Cross-validation fold: 2/3\n",
      "Cross-validation fold: 3/3\n",
      "Best lambda: 59.6\n",
      "Linneal regression test error: 0.8006643899102627\n",
      "Best hidden layer size: 41\n",
      "ANN test error: 0.8142848872718101\n",
      "0.9078560322422464\n",
      "Outter fold: 3/3\n",
      "Cross-validation fold: 1/3\n",
      "Cross-validation fold: 2/3\n",
      "Cross-validation fold: 3/3\n",
      "Best lambda: 33.400000000000006\n",
      "Linneal regression test error: 1.1618465377681304\n",
      "Best hidden layer size: 19\n",
      "ANN test error: 1.2518793174240193\n",
      "1.2710880113417702\n"
     ]
    }
   ],
   "source": [
    "from sklearn import model_selection\n",
    "import numpy as np\n",
    "import sklearn.linear_model\n",
    "import sklearn.neural_network\n",
    "\n",
    "K1 = 3\n",
    "K2 = 3\n",
    "\n",
    "X = Y_scaled[:,1:]\n",
    "y = Y_scaled[:,0]\n",
    "\n",
    "k1 = 0\n",
    "k2 = 0\n",
    "\n",
    "lambda_range = list(np.arange(0.1, 100, 0.1))\n",
    "hidden_range = list(range(1, 50))\n",
    "\n",
    "test_lens = []\n",
    "\n",
    "for par_index, test_index in model_selection.KFold(K1).split(X):\n",
    "    print(\"Outter fold: {0}/{1}\".format(k1 + 1, K1))\n",
    "\n",
    "    X_par, X_test = X[par_index,:], X[test_index,:]\n",
    "    y_par, y_test = y[par_index], y[test_index]\n",
    "\n",
    "\n",
    "    lr_generr = []\n",
    "    ann_generr = []\n",
    "\n",
    "    train_val_fracs = []\n",
    "\n",
    "    k2 = 0\n",
    "\n",
    "    for train_index, val_index in model_selection.KFold(K2).split(X_par):\n",
    "        print(\"Cross-validation fold: {0}/{1}\".format(k2 + 1, K2))\n",
    "\n",
    "        X_train, X_val = X_par[train_index,:], X_par[val_index,:]\n",
    "        y_train, y_val = y_par[train_index], y_par[val_index]\n",
    "\n",
    "        train_val_fracs.append(len(X_train)/len(X_val))\n",
    "\n",
    "        # Train linnear regression model (ranging lambda regularization parameter)\n",
    "        lr_valerr = []\n",
    "        for l in lambda_range:\n",
    "            mA = sklearn.linear_model.Ridge(alpha=l).fit(X_train, y_train)\n",
    "            lr_preds = mA.predict(X_val)\n",
    "            lr_valerr.append(np.mean((lr_preds - y_val) ** 2))\n",
    "        lr_generr.append(lr_valerr)\n",
    "        \n",
    "        # Train ANN model\n",
    "        ann_valerr = []\n",
    "        for h in hidden_range:\n",
    "            mB = sklearn.neural_network.MLPRegressor(hidden_layer_sizes=(h,), activation='relu', solver='adam').fit(X_train, y_train)\n",
    "            ann_preds = mB.predict(X_val)\n",
    "            ann_valerr.append(np.mean((ann_preds - y_val) ** 2))\n",
    "        ann_generr.append(ann_valerr)\n",
    "\n",
    "        k2 += 1\n",
    "\n",
    "    # Compute generalization errors\n",
    "\n",
    "    # LINNEAR REGRESSION\n",
    "    lr_generr = np.dot(np.array(train_val_fracs), np.array(lr_generr))\n",
    "    # Choose best model\n",
    "    best_lambda = lambda_range[np.argmin(lr_generr)]\n",
    "    mA = sklearn.linear_model.Ridge(alpha=best_lambda).fit(X_par, y_par)\n",
    "    lr_testerr = np.mean((mA.predict(X_test) - y_test) ** 2)\n",
    "\n",
    "    print(\"Best lambda: {0}\".format(best_lambda))\n",
    "    print(\"Linneal regression test error: {0}\".format(lr_testerr))\n",
    "\n",
    "    # ANN REGRESSION\n",
    "    ann_generr = np.dot(np.array(train_val_fracs), np.array(ann_generr))\n",
    "    # Choose best model\n",
    "    best_hidden = hidden_range[np.argmin(ann_generr)]\n",
    "    mB = sklearn.neural_network.MLPRegressor(hidden_layer_sizes=(best_hidden,)).fit(X_par, y_par)\n",
    "    ann_testerr = np.mean((mB.predict(X_test) - y_test) ** 2)\n",
    "\n",
    "    print(\"Best hidden layer size: {0}\".format(best_hidden))\n",
    "    print(\"ANN test error: {0}\".format(ann_testerr))\n",
    "\n",
    "    # BASELINE\n",
    "    y_baseline = np.mean(y_par) * np.ones(len(y_test))\n",
    "    baseline_testerr = np.mean((y_baseline - y_test) ** 2)\n",
    "\n",
    "    print(baseline_testerr)\n",
    "\n",
    "    k1 += 1\n",
    "\n",
    "# Estimate of generalization error (not shown on the table)\n",
    "\n",
    "# LINNEAR REGRESSION\n",
    "# lr_gen = np.dot(np.array(test_lens), np.array(lr_generr))\n",
    "\n",
    "# ANN REGRESSION\n",
    "#ann_gen = np.dot(np.array(test_lens), np.array(ann_generr))\n",
    "\n",
    "# BASELINE, not sure what goes here\n"
   ]
  },
  {
   "cell_type": "code",
   "execution_count": 27,
   "metadata": {},
   "outputs": [
    {
     "data": {
      "image/png": "[encoded data removed]",
      "text/plain": [
       "<Figure size 640x480 with 1 Axes>"
      ]
     },
     "metadata": {},
     "output_type": "display_data"
    }
   ],
   "source": [
    "mA = sklearn.linear_model.Ridge(alpha=best_lambda).fit(X, y)\n",
    "pred_y = mA.predict(X)\n",
    "\n",
    "plt.figure()\n",
    "plt.plot(y, pred_y, '.')\n",
    "plt.xlabel('True value')\n",
    "plt.ylabel('Predicted value')\n",
    "plt.title('Linneal regression')\n",
    "plt.show()"
   ]
  }
 ],
 "metadata": {
  "kernelspec": {
   "display_name": "ml-env",
   "language": "python",
   "name": "python3"
  },
  "language_info": {
   "codemirror_mode": {
    "name": "ipython",
    "version": 3
   },
   "file_extension": ".py",
   "mimetype": "text/x-python",
   "name": "python",
   "nbconvert_exporter": "python",
   "pygments_lexer": "ipython3",
   "version": "3.10.14"
  }
 },
 "nbformat": 4,
 "nbformat_minor": 2
}
